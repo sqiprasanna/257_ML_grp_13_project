{
 "cells": [
  {
   "cell_type": "markdown",
   "id": "1e7a822c",
   "metadata": {},
   "source": [
    "# Beautiful Soup Web Scraper"
   ]
  },
  {
   "cell_type": "markdown",
   "id": "c0019911",
   "metadata": {},
   "source": [
    "Source: https://www.freecodecamp.org/news/how-to-scrape-websites-with-python-2/"
   ]
  },
  {
   "cell_type": "code",
   "execution_count": 52,
   "id": "7bc2c5dc",
   "metadata": {},
   "outputs": [],
   "source": [
    "import requests\n",
    "from bs4 import BeautifulSoup"
   ]
  },
  {
   "cell_type": "code",
   "execution_count": 70,
   "id": "3e3f39ce",
   "metadata": {
    "scrolled": false
   },
   "outputs": [],
   "source": [
    "# TODO"
   ]
  },
  {
   "cell_type": "markdown",
   "id": "b27fbd37",
   "metadata": {},
   "source": [
    "## Twitter API"
   ]
  },
  {
   "cell_type": "markdown",
   "id": "036e6826",
   "metadata": {},
   "source": [
    "Source: https://github.com/twitterdev/Twitter-API-v2-sample-code/blob/main/Tweet-Lookup/get_tweets_with_bearer_token.py"
   ]
  },
  {
   "cell_type": "code",
   "execution_count": 1,
   "id": "67a3cdfd",
   "metadata": {},
   "outputs": [],
   "source": [
    "import requests\n",
    "import os\n",
    "import json"
   ]
  },
  {
   "cell_type": "code",
   "execution_count": 14,
   "id": "a20cf99b",
   "metadata": {},
   "outputs": [],
   "source": [
    "with open(\"secrets.json\", \"r\") as f:\n",
    "    secrets = json.load(f)\n",
    "\n",
    "BEARER_TOKEN = secrets[\"bearerToken\"]"
   ]
  },
  {
   "cell_type": "code",
   "execution_count": 49,
   "id": "9b91eb6a",
   "metadata": {},
   "outputs": [],
   "source": [
    "def create_url():\n",
    "    query = \"'climate change' OR 'global warming'\"\n",
    "    url = \"https://api.twitter.com/2/tweets/search/recent?query={}\".format(query)\n",
    "    return url"
   ]
  },
  {
   "cell_type": "code",
   "execution_count": 19,
   "id": "8fd7ef47",
   "metadata": {},
   "outputs": [],
   "source": [
    "def bearer_oauth(r):\n",
    "    \"\"\"\n",
    "    Method required by bearer token authentication.\n",
    "    \"\"\"\n",
    "\n",
    "    r.headers[\"Authorization\"] = f\"Bearer {BEARER_TOKEN}\"\n",
    "    r.headers[\"User-Agent\"] = \"v2TweetLookupPython\"\n",
    "    return r"
   ]
  },
  {
   "cell_type": "code",
   "execution_count": 20,
   "id": "6ad3ee30",
   "metadata": {},
   "outputs": [],
   "source": [
    "def connect_to_endpoint(url):\n",
    "    response = requests.request(\"GET\", url, auth=bearer_oauth)\n",
    "    print(response.status_code)\n",
    "    if response.status_code != 200:\n",
    "        raise Exception(\n",
    "            \"Request returned an error: {} {}\".format(\n",
    "                response.status_code, response.text\n",
    "            )\n",
    "        )\n",
    "    return response.json()"
   ]
  },
  {
   "cell_type": "code",
   "execution_count": 46,
   "id": "f4c56733",
   "metadata": {
    "scrolled": false
   },
   "outputs": [
    {
     "name": "stdout",
     "output_type": "stream",
     "text": [
      "200\n",
      "{\n",
      "    \"data\": [\n",
      "        {\n",
      "            \"edit_history_tweet_ids\": [\n",
      "                \"1592741858190721024\"\n",
      "            ],\n",
      "            \"id\": \"1592741858190721024\",\n",
      "            \"text\": \"RT @bennyjohnson: Trump: \\n\\n\\\"They want you to focus on global warming that may harm us in 300 years and not nuclear war that could wipe us o\\u2026\"\n",
      "        },\n",
      "        {\n",
      "            \"edit_history_tweet_ids\": [\n",
      "                \"1592741858173915136\"\n",
      "            ],\n",
      "            \"id\": \"1592741858173915136\",\n",
      "            \"text\": \"RT @PMOIndia: PM @narendramodi and other G20 leaders visited a mangrove forest in Bali, giving a strong message of coming together to tackl\\u2026\"\n",
      "        },\n",
      "        {\n",
      "            \"edit_history_tweet_ids\": [\n",
      "                \"1592741846530535424\"\n",
      "            ],\n",
      "            \"id\": \"1592741846530535424\",\n",
      "            \"text\": \"RT @sambitswaraj: India demonstrated its commited toward battling climate change by joining the Mangrove Alliance for Climate, a joint init\\u2026\"\n",
      "        },\n",
      "        {\n",
      "            \"edit_history_tweet_ids\": [\n",
      "                \"1592741836527144960\"\n",
      "            ],\n",
      "            \"id\": \"1592741836527144960\",\n",
      "            \"text\": \"RT @PMOIndia: PM @narendramodi and other G20 leaders visited a mangrove forest in Bali, giving a strong message of coming together to tackl\\u2026\"\n",
      "        },\n",
      "        {\n",
      "            \"edit_history_tweet_ids\": [\n",
      "                \"1592741834476126208\"\n",
      "            ],\n",
      "            \"id\": \"1592741834476126208\",\n",
      "            \"text\": \"@dockaurG Just wait till they smack you with their fake climate change bs..!\"\n",
      "        },\n",
      "        {\n",
      "            \"edit_history_tweet_ids\": [\n",
      "                \"1592741832655622146\"\n",
      "            ],\n",
      "            \"id\": \"1592741832655622146\",\n",
      "            \"text\": \"RT @mikepompeo: Xi Jinping will trade empty promises on climate change for real security concessions.\\n\\nAnd the Biden Administration is fall\\u2026\"\n",
      "        },\n",
      "        {\n",
      "            \"edit_history_tweet_ids\": [\n",
      "                \"1592741827651973125\"\n",
      "            ],\n",
      "            \"id\": \"1592741827651973125\",\n",
      "            \"text\": \"RT @buggirl: this might sound cynical but i\\u2019ve always wondered why no billionaire has singlehandedly funded the halting/reversal of climate\\u2026\"\n",
      "        },\n",
      "        {\n",
      "            \"edit_history_tweet_ids\": [\n",
      "                \"1592741826595020801\"\n",
      "            ],\n",
      "            \"id\": \"1592741826595020801\",\n",
      "            \"text\": \"RT @Trudeaus_Ego: This evening, I met with fellow #G20 leaders Klaus Schwab and PM @RishiSunak. \\n\\nWe discussed the rise of far-right propag\\u2026\"\n",
      "        },\n",
      "        {\n",
      "            \"edit_history_tweet_ids\": [\n",
      "                \"1592741825345105921\"\n",
      "            ],\n",
      "            \"id\": \"1592741825345105921\",\n",
      "            \"text\": \"RT @PMOIndia: PM @narendramodi and other G20 leaders visited a mangrove forest in Bali, giving a strong message of coming together to tackl\\u2026\"\n",
      "        },\n",
      "        {\n",
      "            \"edit_history_tweet_ids\": [\n",
      "                \"1592741821037260800\"\n",
      "            ],\n",
      "            \"id\": \"1592741821037260800\",\n",
      "            \"text\": \"RT @wtpBLUE: 56% of 18 to 29 year olds registered as new Dems for the Mid-Term Elections\\n \\nThey voted on issues they believe in:\\nDemocracy\\u2026\"\n",
      "        }\n",
      "    ],\n",
      "    \"meta\": {\n",
      "        \"newest_id\": \"1592741858190721024\",\n",
      "        \"next_token\": \"b26v89c19zqg8o3fpzhk2cpipkaefnhlgvmfn7a3rky2l\",\n",
      "        \"oldest_id\": \"1592741821037260800\",\n",
      "        \"result_count\": 10\n",
      "    }\n",
      "}\n"
     ]
    }
   ],
   "source": [
    "url = create_url()\n",
    "json_response = connect_to_endpoint(url)\n",
    "\n",
    "print(json.dumps(json_response, indent=4, sort_keys=True))\n",
    "tweets = json_response"
   ]
  },
  {
   "cell_type": "code",
   "execution_count": null,
   "id": "f3d8cda6",
   "metadata": {},
   "outputs": [],
   "source": []
  }
 ],
 "metadata": {
  "kernelspec": {
   "display_name": "Python 3 (ipykernel)",
   "language": "python",
   "name": "python3"
  },
  "language_info": {
   "codemirror_mode": {
    "name": "ipython",
    "version": 3
   },
   "file_extension": ".py",
   "mimetype": "text/x-python",
   "name": "python",
   "nbconvert_exporter": "python",
   "pygments_lexer": "ipython3",
   "version": "3.9.13"
  }
 },
 "nbformat": 4,
 "nbformat_minor": 5
}
