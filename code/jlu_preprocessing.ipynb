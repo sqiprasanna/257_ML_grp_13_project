{
 "cells": [
  {
   "cell_type": "code",
   "execution_count": 1,
   "id": "e54bcb7a",
   "metadata": {},
   "outputs": [],
   "source": [
    "import numpy as np\n",
    "import pandas as pd\n",
    "import spacy\n",
    "from sklearn.feature_extraction.text import TfidfVectorizer"
   ]
  },
  {
   "cell_type": "code",
   "execution_count": 2,
   "id": "c9559d7b",
   "metadata": {},
   "outputs": [],
   "source": [
    "### Source: https://spacy.io/usage/linguistic-features\n",
    "\n",
    "def spacyPipeline(tweets):\n",
    "    nlp = spacy.load('en_core_web_sm')\n",
    "    \n",
    "    preprocessed_tweets = []\n",
    "    for t in tweets:\n",
    "        doc = nlp(t)\n",
    "        filtered_tweet = []\n",
    "        \n",
    "        for token in doc:\n",
    "            if (not token.is_stop) and token.is_alpha:\n",
    "                filtered_tweet.append(token.lemma_)\n",
    "                \n",
    "        preprocessed_tweets.append(filtered_tweet)\n",
    "    \n",
    "    return preprocessed_tweets"
   ]
  },
  {
   "cell_type": "code",
   "execution_count": 3,
   "id": "286e503b",
   "metadata": {},
   "outputs": [],
   "source": [
    "def convertClasses(c):\n",
    "    classes = []\n",
    "\n",
    "    neg = 0\n",
    "    pos = 1\n",
    "    \n",
    "    for val in c:\n",
    "        if pd.isnull(val) or val == 'N' or val == 'No':\n",
    "            classes.append(neg)\n",
    "        else:\n",
    "            classes.append(pos)\n",
    "    \n",
    "    return classes"
   ]
  },
  {
   "cell_type": "code",
   "execution_count": 4,
   "id": "63fffec6",
   "metadata": {},
   "outputs": [],
   "source": [
    "def preprocess(data):\n",
    "    tweets = data['tweet']\n",
    "    \n",
    "    # Convert all to lowercase\n",
    "    tweets = [t.lower() for t in tweets]\n",
    "    \n",
    "    # Process tweets through spaCy pipeline\n",
    "    tweets = spacyPipeline(tweets)\n",
    "    \n",
    "    # Filter out words\n",
    "    tweets = [list(filter(lambda w: w != 'link', t)) for t in tweets]\n",
    "    \n",
    "    # Remove words less than length 3\n",
    "    tweets = [list(filter(lambda w: len(w) > 3, t)) for t in tweets]\n",
    "    \n",
    "    # Transform with TF-IDF\n",
    "    transformer = TfidfVectorizer()\n",
    "    tfidf_tweets = transformer.fit_transform([' '.join(t) for t in tweets])\n",
    "    \n",
    "    # Transform classes\n",
    "    classes = convertClasses(data[\"existence\"].tolist())\n",
    "    \n",
    "    return tfidf_tweets, classes"
   ]
  },
  {
   "cell_type": "code",
   "execution_count": null,
   "id": "cf37a222",
   "metadata": {},
   "outputs": [],
   "source": []
  }
 ],
 "metadata": {
  "kernelspec": {
   "display_name": "Python 3 (ipykernel)",
   "language": "python",
   "name": "python3"
  },
  "language_info": {
   "codemirror_mode": {
    "name": "ipython",
    "version": 3
   },
   "file_extension": ".py",
   "mimetype": "text/x-python",
   "name": "python",
   "nbconvert_exporter": "python",
   "pygments_lexer": "ipython3",
   "version": "3.9.13"
  }
 },
 "nbformat": 4,
 "nbformat_minor": 5
}
