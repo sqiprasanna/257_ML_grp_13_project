{
 "cells": [
  {
   "cell_type": "code",
   "execution_count": 43,
   "metadata": {},
   "outputs": [],
   "source": [
    "import numpy as np\n",
    "import pandas as pd\n",
    "import spacy\n",
    "from sklearn.feature_extraction.text import TfidfVectorizer"
   ]
  },
  {
   "cell_type": "code",
   "execution_count": 56,
   "metadata": {},
   "outputs": [],
   "source": [
    "### Source: https://spacy.io/usage/linguistic-features\n",
    "\n",
    "def spacyPipeline(tweets):\n",
    "    nlp = spacy.load('en_core_web_sm')\n",
    "    \n",
    "    indices = []\n",
    "    preprocessed_tweets = []\n",
    "    for index, t in enumerate(tweets):\n",
    "        doc = nlp(t)\n",
    "        filtered_tweet = []\n",
    "        \n",
    "        # What about negations like \"not\"?\n",
    "        # Contractions like \"don't\" or \"can't\"?\n",
    "        for token in doc:\n",
    "            #print(token, \" | \", spacy.explain(token.pos_))\n",
    "            if (not token.is_stop) and (token.is_alpha):# and (token.pos_ not in [\"PROPN\"]):\n",
    "                if (len(token.text) > 3) and (token.text != \"link\") and (token.text not in filtered_tweet):\n",
    "                    if token.text not in [\"global\", \"warming\", \"climate\", \"change\"]:\n",
    "                        filtered_tweet.append(token.lemma_)\n",
    "    \n",
    "        if len(filtered_tweet) >= 4:\n",
    "            # print(\"Filtered tweet: \", filtered_tweet)\n",
    "            # print()\n",
    "        \n",
    "            preprocessed_tweets.append(filtered_tweet)\n",
    "        else:\n",
    "            indices.append(index)\n",
    "    \n",
    "    return preprocessed_tweets, indices"
   ]
  },
  {
   "cell_type": "code",
   "execution_count": 45,
   "metadata": {},
   "outputs": [],
   "source": [
    "def convertClasses(c, indices):\n",
    "    classes = []\n",
    "    indices = set(indices)\n",
    "\n",
    "    neg = 0\n",
    "    pos = 1\n",
    "    \n",
    "    for index, val in enumerate(c):\n",
    "        if index in indices:\n",
    "            continue\n",
    "        \n",
    "        if pd.isnull(val) or val == 'N' or val == 'No':\n",
    "            classes.append(neg)\n",
    "        else:\n",
    "            classes.append(pos)\n",
    "    \n",
    "    return classes"
   ]
  },
  {
   "cell_type": "code",
   "execution_count": 55,
   "metadata": {},
   "outputs": [],
   "source": [
    "def preprocess(data):\n",
    "    tweets = data['tweet']\n",
    "    \n",
    "    # Convert all to lowercase\n",
    "    tweets = [t.lower() for t in tweets]\n",
    "    \n",
    "    # Process tweets through spaCy pipeline\n",
    "    tweets, indices = spacyPipeline(tweets)\n",
    "    \n",
    "    # Transform with TF-IDF\n",
    "    transformer = TfidfVectorizer()\n",
    "    tfidf_tweets = transformer.fit_transform([' '.join(t) for t in tweets])\n",
    "    \n",
    "    # Transform classes\n",
    "    classes = convertClasses(data[\"existence\"].tolist(), indices)\n",
    "    \n",
    "    return tfidf_tweets, classes"
   ]
  },
  {
   "cell_type": "code",
   "execution_count": null,
   "metadata": {},
   "outputs": [],
   "source": []
  }
 ],
 "metadata": {
  "kernelspec": {
   "display_name": "Python 3",
   "language": "python",
   "name": "python3"
  },
  "language_info": {
   "codemirror_mode": {
    "name": "ipython",
    "version": 3
   },
   "file_extension": ".py",
   "mimetype": "text/x-python",
   "name": "python",
   "nbconvert_exporter": "python",
   "pygments_lexer": "ipython3",
   "version": "3.7.6"
  }
 },
 "nbformat": 4,
 "nbformat_minor": 5
}
