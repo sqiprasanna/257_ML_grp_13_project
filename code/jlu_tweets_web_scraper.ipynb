{
 "cells": [
  {
   "cell_type": "markdown",
   "id": "0fd6eaba",
   "metadata": {},
   "source": [
    "# Beautiful Soup Web Scraper"
   ]
  },
  {
   "cell_type": "code",
   "execution_count": 1,
   "id": "d811537b",
   "metadata": {},
   "outputs": [],
   "source": [
    "import time\n",
    "import requests\n",
    "import pandas as pd\n",
    "import numpy as np\n",
    "\n",
    "from bs4 import BeautifulSoup\n",
    "\n",
    "from selenium import webdriver\n",
    "from selenium.webdriver.common.by import By\n",
    "from selenium.webdriver.support.wait import WebDriverWait\n",
    "from selenium.webdriver.support import expected_conditions as EC"
   ]
  },
  {
   "cell_type": "code",
   "execution_count": null,
   "id": "417166d7",
   "metadata": {
    "scrolled": true
   },
   "outputs": [],
   "source": [
    "driver = webdriver.Chrome()\n",
    "page = driver.get('https://twitter.com/search?q=%23globalwarming') # Getting page HTML through request\n",
    "soup = BeautifulSoup(driver.page_source, 'html.parser') # Parsing content using beautifulsoup\n",
    "\n",
    "sel = \"div[data-testid='primaryColumn'] div[data-testid='tweetText']\"\n",
    "\n",
    "WebDriverWait(driver, 10).until(\n",
    "    EC.visibility_of_all_elements_located(\n",
    "        (By.CSS_SELECTOR, sel)\n",
    "    )\n",
    ")\n",
    "\n",
    "allTweets = []\n",
    "for i in range(50):\n",
    "    driver.execute_script(\"window.scrollBy(0,document.body.scrollHeight * .15)\")\n",
    "    time.sleep(5)\n",
    "\n",
    "    tweets = driver.find_elements(By.CSS_SELECTOR, sel)\n",
    "    allTweets.extend([t.text for t in tweets])\n",
    "\n",
    "driver.quit()"
   ]
  },
  {
   "cell_type": "code",
   "execution_count": 115,
   "id": "250c1188",
   "metadata": {
    "scrolled": false
   },
   "outputs": [
    {
     "name": "stdout",
     "output_type": "stream",
     "text": [
      "(383, 1)\n",
      "(89, 1)\n"
     ]
    }
   ],
   "source": [
    "df = pd.DataFrame(allTweets)\n",
    "print(df.shape)\n",
    "df.drop_duplicates(inplace=True, ignore_index=True)\n",
    "print(df.shape)"
   ]
  },
  {
   "cell_type": "code",
   "execution_count": 116,
   "id": "55c6397a",
   "metadata": {},
   "outputs": [
    {
     "name": "stdout",
     "output_type": "stream",
     "text": [
      "89\n"
     ]
    }
   ],
   "source": [
    "processed_tweets = []\n",
    "for t in df[0]:\n",
    "    s = ' '.join(t.split('\\n'))\n",
    "    processed_tweets.append(s)\n",
    "print(len(processed_tweets))"
   ]
  },
  {
   "cell_type": "code",
   "execution_count": 117,
   "id": "ec4845e0",
   "metadata": {},
   "outputs": [],
   "source": [
    "fh = open(\"tweets4.txt\", \"w\")\n",
    "\n",
    "for t in processed_tweets:\n",
    "    fh.write(f\"{t}\\n\")\n",
    "\n",
    "fh.close()"
   ]
  },
  {
   "cell_type": "markdown",
   "id": "263ce73b",
   "metadata": {},
   "source": [
    "## Twitter API"
   ]
  },
  {
   "cell_type": "markdown",
   "id": "a6dda34e",
   "metadata": {},
   "source": [
    "Source: https://github.com/twitterdev/Twitter-API-v2-sample-code/blob/main/Tweet-Lookup/get_tweets_with_bearer_token.py"
   ]
  },
  {
   "cell_type": "code",
   "execution_count": 31,
   "id": "6902c301",
   "metadata": {},
   "outputs": [],
   "source": [
    "import requests\n",
    "import os\n",
    "import json"
   ]
  },
  {
   "cell_type": "code",
   "execution_count": 32,
   "id": "c8e52a48",
   "metadata": {},
   "outputs": [],
   "source": [
    "with open(\"secrets.json\", \"r\") as f:\n",
    "    secrets = json.load(f)\n",
    "\n",
    "BEARER_TOKEN = secrets[\"bearerToken\"]"
   ]
  },
  {
   "cell_type": "code",
   "execution_count": 33,
   "id": "bec7eee5",
   "metadata": {},
   "outputs": [],
   "source": [
    "def create_url():\n",
    "    query = \"climate change\"\n",
    "    url = \"https://api.twitter.com/2/tweets/search/recent?query={}\".format(query)\n",
    "    return url"
   ]
  },
  {
   "cell_type": "code",
   "execution_count": 34,
   "id": "a4282974",
   "metadata": {},
   "outputs": [],
   "source": [
    "def bearer_oauth(r):\n",
    "    \"\"\"\n",
    "    Method required by bearer token authentication.\n",
    "    \"\"\"\n",
    "\n",
    "    r.headers[\"Authorization\"] = f\"Bearer {BEARER_TOKEN}\"\n",
    "    r.headers[\"User-Agent\"] = \"v2TweetLookupPython\"\n",
    "    return r"
   ]
  },
  {
   "cell_type": "code",
   "execution_count": 35,
   "id": "98d0de22",
   "metadata": {},
   "outputs": [],
   "source": [
    "def connect_to_endpoint(url):\n",
    "    response = requests.request(\"GET\", url, auth=bearer_oauth)\n",
    "    print(response.status_code)\n",
    "    if response.status_code != 200:\n",
    "        raise Exception(\n",
    "            \"Request returned an error: {} {}\".format(\n",
    "                response.status_code, response.text\n",
    "            )\n",
    "        )\n",
    "    return response.json()"
   ]
  },
  {
   "cell_type": "code",
   "execution_count": 36,
   "id": "f05a0687",
   "metadata": {
    "scrolled": true
   },
   "outputs": [
    {
     "name": "stdout",
     "output_type": "stream",
     "text": [
      "200\n",
      "{\n",
      "    \"data\": [\n",
      "        {\n",
      "            \"edit_history_tweet_ids\": [\n",
      "                \"1593704550334140416\"\n",
      "            ],\n",
      "            \"id\": \"1593704550334140416\",\n",
      "            \"text\": \"RT @__TEAM_USA: Climate Change is the biggest scam of the last 50 years. Who agrees?\"\n",
      "        },\n",
      "        {\n",
      "            \"edit_history_tweet_ids\": [\n",
      "                \"1593704541857497088\"\n",
      "            ],\n",
      "            \"id\": \"1593704541857497088\",\n",
      "            \"text\": \"@misterbumface @cawleym1 @ThisisKyrstin tHe FuCk i jUsT ReAd?\\n\\nI zoned out by the 5th tweet, amazed she didn't pepper a \\\"synergy\\\" in there.\\n\\nAs far as I can gather, Elmo is going to solve climate change by restructuring Twitter....? https://t.co/BL9A2jTNtS\"\n",
      "        },\n",
      "        {\n",
      "            \"edit_history_tweet_ids\": [\n",
      "                \"1593704540825538560\"\n",
      "            ],\n",
      "            \"id\": \"1593704540825538560\",\n",
      "            \"text\": \"Thought to just change my DP with change of climate ..\\n\\n#PokemonEcarlateViolet \\n#KEEPMEUP \\n#FIFAWorldCupQatar2022\"\n",
      "        },\n",
      "        {\n",
      "            \"edit_history_tweet_ids\": [\n",
      "                \"1593704524342038533\"\n",
      "            ],\n",
      "            \"id\": \"1593704524342038533\",\n",
      "            \"text\": \"RT @premnsikka: UK Environment secretary Therese Coffey says that preventing dumping of raw sewage into British rivers is \\u2018not her priority\\u2026\"\n",
      "        },\n",
      "        {\n",
      "            \"edit_history_tweet_ids\": [\n",
      "                \"1593704520323825667\"\n",
      "            ],\n",
      "            \"id\": \"1593704520323825667\",\n",
      "            \"text\": \"RT @UN: \\ud83d\\udd34 Conflict \\n\\ud83d\\udd34 Climate change\\n\\ud83d\\udd34 Rising costs\\n\\nThese challenges are fueling a global hunger crisis the world cannot afford. \\n\\nSee how\\u2026\"\n",
      "        },\n",
      "        {\n",
      "            \"edit_history_tweet_ids\": [\n",
      "                \"1593704511381831680\"\n",
      "            ],\n",
      "            \"id\": \"1593704511381831680\",\n",
      "            \"text\": \"RT @BangorPage: WHAT NEXT?? Britain has to pay \\\"reparations\\\" \\nfor causing the Industrial Revolution? \\nAnd reparations ALSO  for climate cha\\u2026\"\n",
      "        },\n",
      "        {\n",
      "            \"edit_history_tweet_ids\": [\n",
      "                \"1593704507355320320\"\n",
      "            ],\n",
      "            \"id\": \"1593704507355320320\",\n",
      "            \"text\": \"RT @Grum2many1: \\ud83d\\udea8No Climate Change\\u2753 \\n\\n\\ud83d\\udea8Tell that to 1.3 million people in NV, AZ, and CA who will be without power if Mead goes much lower!\\u2026\"\n",
      "        },\n",
      "        {\n",
      "            \"edit_history_tweet_ids\": [\n",
      "                \"1593704504578527234\"\n",
      "            ],\n",
      "            \"id\": \"1593704504578527234\",\n",
      "            \"text\": \"RT @DeeWardRottal: Todays one in 500 year flood. We\\u2019ve had 3 of them this year\\u2026\\u2026 @theresecoffey Now would be a good time to act on climate\\u2026\"\n",
      "        },\n",
      "        {\n",
      "            \"edit_history_tweet_ids\": [\n",
      "                \"1593704500937768961\"\n",
      "            ],\n",
      "            \"id\": \"1593704500937768961\",\n",
      "            \"text\": \"RT @lexfridman: Here's my conversation &amp; debate on climate change with @BjornLomborg and Andrew @Revkin. Bj\\u00f8rn is the author of False Alarm\\u2026\"\n",
      "        },\n",
      "        {\n",
      "            \"edit_history_tweet_ids\": [\n",
      "                \"1593704489445249024\"\n",
      "            ],\n",
      "            \"id\": \"1593704489445249024\",\n",
      "            \"text\": \"RT @bambooshooti: The U.S. and China are at least talking again, and that's good news for action on climate change. U.S. climate envoy John\\u2026\"\n",
      "        }\n",
      "    ],\n",
      "    \"meta\": {\n",
      "        \"newest_id\": \"1593704550334140416\",\n",
      "        \"next_token\": \"b26v89c19zqg8o3fpzhkhia9lft3aqert00y65gwwr5h9\",\n",
      "        \"oldest_id\": \"1593704489445249024\",\n",
      "        \"result_count\": 10\n",
      "    }\n",
      "}\n"
     ]
    }
   ],
   "source": [
    "url = create_url()\n",
    "json_response = connect_to_endpoint(url)\n",
    "\n",
    "print(json.dumps(json_response, indent=4, sort_keys=True))\n",
    "tweets = json_response"
   ]
  },
  {
   "cell_type": "code",
   "execution_count": null,
   "id": "1d101d6b",
   "metadata": {},
   "outputs": [],
   "source": []
  }
 ],
 "metadata": {
  "kernelspec": {
   "display_name": "Python 3 (ipykernel)",
   "language": "python",
   "name": "python3"
  },
  "language_info": {
   "codemirror_mode": {
    "name": "ipython",
    "version": 3
   },
   "file_extension": ".py",
   "mimetype": "text/x-python",
   "name": "python",
   "nbconvert_exporter": "python",
   "pygments_lexer": "ipython3",
   "version": "3.9.13"
  }
 },
 "nbformat": 4,
 "nbformat_minor": 5
}
