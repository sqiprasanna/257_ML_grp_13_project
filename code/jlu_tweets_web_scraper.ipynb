{
 "cells": [
  {
   "cell_type": "markdown",
   "metadata": {},
   "source": [
    "# Beautiful Soup Web Scraper"
   ]
  },
  {
   "cell_type": "markdown",
   "metadata": {},
   "source": [
    "Sources: \n",
    "- https://www.freecodecamp.org/news/how-to-scrape-websites-with-python-2/\n",
    "- https://www.selenium.dev/documentation/webdriver/waits/\n",
    "- https://www.selenium.dev/documentation/webdriver/elements/finders/\n",
    "- https://stackoverflow.com/questions/73454187/how-to-get-tweets-in-twitter-using-selenium-in-python\n",
    "- https://pythonbasics.org/selenium-scroll-down/\n",
    "- https://javascript.info/size-and-scroll-window"
   ]
  },
  {
   "cell_type": "code",
   "execution_count": 1,
   "metadata": {},
   "outputs": [
    {
     "ename": "ModuleNotFoundError",
     "evalue": "No module named 'selenium'",
     "output_type": "error",
     "traceback": [
      "\u001b[1;31m---------------------------------------------------------------------------\u001b[0m",
      "\u001b[1;31mModuleNotFoundError\u001b[0m                       Traceback (most recent call last)",
      "\u001b[1;32m<ipython-input-1-9f7534cfb449>\u001b[0m in \u001b[0;36m<module>\u001b[1;34m\u001b[0m\n\u001b[0;32m      6\u001b[0m \u001b[1;32mfrom\u001b[0m \u001b[0mbs4\u001b[0m \u001b[1;32mimport\u001b[0m \u001b[0mBeautifulSoup\u001b[0m\u001b[1;33m\u001b[0m\u001b[1;33m\u001b[0m\u001b[0m\n\u001b[0;32m      7\u001b[0m \u001b[1;33m\u001b[0m\u001b[0m\n\u001b[1;32m----> 8\u001b[1;33m \u001b[1;32mfrom\u001b[0m \u001b[0mselenium\u001b[0m \u001b[1;32mimport\u001b[0m \u001b[0mwebdriver\u001b[0m\u001b[1;33m\u001b[0m\u001b[1;33m\u001b[0m\u001b[0m\n\u001b[0m\u001b[0;32m      9\u001b[0m \u001b[1;32mfrom\u001b[0m \u001b[0mselenium\u001b[0m\u001b[1;33m.\u001b[0m\u001b[0mwebdriver\u001b[0m\u001b[1;33m.\u001b[0m\u001b[0mcommon\u001b[0m\u001b[1;33m.\u001b[0m\u001b[0mby\u001b[0m \u001b[1;32mimport\u001b[0m \u001b[0mBy\u001b[0m\u001b[1;33m\u001b[0m\u001b[1;33m\u001b[0m\u001b[0m\n\u001b[0;32m     10\u001b[0m \u001b[1;32mfrom\u001b[0m \u001b[0mselenium\u001b[0m\u001b[1;33m.\u001b[0m\u001b[0mwebdriver\u001b[0m\u001b[1;33m.\u001b[0m\u001b[0msupport\u001b[0m\u001b[1;33m.\u001b[0m\u001b[0mwait\u001b[0m \u001b[1;32mimport\u001b[0m \u001b[0mWebDriverWait\u001b[0m\u001b[1;33m\u001b[0m\u001b[1;33m\u001b[0m\u001b[0m\n",
      "\u001b[1;31mModuleNotFoundError\u001b[0m: No module named 'selenium'"
     ]
    }
   ],
   "source": [
    "import time\n",
    "import requests\n",
    "import pandas as pd\n",
    "import numpy as np\n",
    "\n",
    "from bs4 import BeautifulSoup\n",
    "\n",
    "from selenium import webdriver\n",
    "from selenium.webdriver.common.by import By\n",
    "from selenium.webdriver.support.wait import WebDriverWait\n",
    "from selenium.webdriver.support import expected_conditions as EC"
   ]
  },
  {
   "cell_type": "code",
   "execution_count": null,
   "metadata": {
    "scrolled": true
   },
   "outputs": [],
   "source": [
    "driver = webdriver.Chrome()\n",
    "page = driver.get('https://twitter.com/search?q=%23globalwarming') # Getting page HTML through request\n",
    "soup = BeautifulSoup(driver.page_source, 'html.parser') # Parsing content using beautifulsoup\n",
    "\n",
    "sel = \"div[data-testid='primaryColumn'] div[data-testid='tweetText']\"\n",
    "\n",
    "WebDriverWait(driver, 10).until(\n",
    "    EC.visibility_of_all_elements_located(\n",
    "        (By.CSS_SELECTOR, sel)\n",
    "    )\n",
    ")\n",
    "\n",
    "allTweets = []\n",
    "for i in range(50):\n",
    "    driver.execute_script(\"window.scrollBy(0,document.body.scrollHeight * .15)\")\n",
    "    time.sleep(5)\n",
    "\n",
    "    tweets = driver.find_elements(By.CSS_SELECTOR, sel)\n",
    "    allTweets.extend([t.text for t in tweets])\n",
    "\n",
    "driver.quit()"
   ]
  },
  {
   "cell_type": "code",
   "execution_count": 115,
   "metadata": {
    "scrolled": false
   },
   "outputs": [
    {
     "name": "stdout",
     "output_type": "stream",
     "text": [
      "(383, 1)\n",
      "(89, 1)\n"
     ]
    }
   ],
   "source": [
    "df = pd.DataFrame(allTweets)\n",
    "print(df.shape)\n",
    "df.drop_duplicates(inplace=True, ignore_index=True)\n",
    "print(df.shape)"
   ]
  },
  {
   "cell_type": "code",
   "execution_count": 116,
   "metadata": {},
   "outputs": [
    {
     "name": "stdout",
     "output_type": "stream",
     "text": [
      "89\n"
     ]
    }
   ],
   "source": [
    "processed_tweets = []\n",
    "for t in df[0]:\n",
    "    s = ' '.join(t.split('\\n'))\n",
    "    processed_tweets.append(s)\n",
    "print(len(processed_tweets))"
   ]
  },
  {
   "cell_type": "code",
   "execution_count": 117,
   "metadata": {},
   "outputs": [],
   "source": [
    "fh = open(\"tweets4.txt\", \"w\")\n",
    "\n",
    "for t in processed_tweets:\n",
    "    fh.write(f\"{t}\\n\")\n",
    "\n",
    "fh.close()"
   ]
  },
  {
   "cell_type": "markdown",
   "metadata": {},
   "source": [
    "## Twitter API"
   ]
  },
  {
   "cell_type": "markdown",
   "metadata": {},
   "source": [
    "Source: https://github.com/twitterdev/Twitter-API-v2-sample-code/blob/main/Tweet-Lookup/get_tweets_with_bearer_token.py"
   ]
  },
  {
   "cell_type": "code",
   "execution_count": 31,
   "metadata": {},
   "outputs": [],
   "source": [
    "import requests\n",
    "import os\n",
    "import json"
   ]
  },
  {
   "cell_type": "code",
   "execution_count": 32,
   "metadata": {},
   "outputs": [],
   "source": [
    "with open(\"secrets.json\", \"r\") as f:\n",
    "    secrets = json.load(f)\n",
    "\n",
    "BEARER_TOKEN = secrets[\"bearerToken\"]"
   ]
  },
  {
   "cell_type": "code",
   "execution_count": 33,
   "metadata": {},
   "outputs": [],
   "source": [
    "def create_url():\n",
    "    query = \"climate change\"\n",
    "    url = \"https://api.twitter.com/2/tweets/search/recent?query={}\".format(query)\n",
    "    return url"
   ]
  },
  {
   "cell_type": "code",
   "execution_count": 34,
   "metadata": {},
   "outputs": [],
   "source": [
    "def bearer_oauth(r):\n",
    "    \"\"\"\n",
    "    Method required by bearer token authentication.\n",
    "    \"\"\"\n",
    "\n",
    "    r.headers[\"Authorization\"] = f\"Bearer {BEARER_TOKEN}\"\n",
    "    r.headers[\"User-Agent\"] = \"v2TweetLookupPython\"\n",
    "    return r"
   ]
  },
  {
   "cell_type": "code",
   "execution_count": 35,
   "metadata": {},
   "outputs": [],
   "source": [
    "def connect_to_endpoint(url):\n",
    "    response = requests.request(\"GET\", url, auth=bearer_oauth)\n",
    "    print(response.status_code)\n",
    "    if response.status_code != 200:\n",
    "        raise Exception(\n",
    "            \"Request returned an error: {} {}\".format(\n",
    "                response.status_code, response.text\n",
    "            )\n",
    "        )\n",
    "    return response.json()"
   ]
  },
  {
   "cell_type": "code",
   "execution_count": 36,
   "metadata": {
    "scrolled": true
   },
   "outputs": [
    {
     "name": "stdout",
     "output_type": "stream",
     "text": [
      "200\n",
      "{\n",
      "    \"data\": [\n",
      "        {\n",
      "            \"edit_history_tweet_ids\": [\n",
      "                \"1593704550334140416\"\n",
      "            ],\n",
      "            \"id\": \"1593704550334140416\",\n",
      "            \"text\": \"RT @__TEAM_USA: Climate Change is the biggest scam of the last 50 years. Who agrees?\"\n",
      "        },\n",
      "        {\n",
      "            \"edit_history_tweet_ids\": [\n",
      "                \"1593704541857497088\"\n",
      "            ],\n",
      "            \"id\": \"1593704541857497088\",\n",
      "            \"text\": \"@misterbumface @cawleym1 @ThisisKyrstin tHe FuCk i jUsT ReAd?\\n\\nI zoned out by the 5th tweet, amazed she didn't pepper a \\\"synergy\\\" in there.\\n\\nAs far as I can gather, Elmo is going to solve climate change by restructuring Twitter....? https://t.co/BL9A2jTNtS\"\n",
      "        },\n",
      "        {\n",
      "            \"edit_history_tweet_ids\": [\n",
      "                \"1593704540825538560\"\n",
      "            ],\n",
      "            \"id\": \"1593704540825538560\",\n",
      "            \"text\": \"Thought to just change my DP with change of climate ..\\n\\n#PokemonEcarlateViolet \\n#KEEPMEUP \\n#FIFAWorldCupQatar2022\"\n",
      "        },\n",
      "        {\n",
      "            \"edit_history_tweet_ids\": [\n",
      "                \"1593704524342038533\"\n",
      "            ],\n",
      "            \"id\": \"1593704524342038533\",\n",
      "            \"text\": \"RT @premnsikka: UK Environment secretary Therese Coffey says that preventing dumping of raw sewage into British rivers is \\u2018not her priority\\u2026\"\n",
      "        },\n",
      "        {\n",
      "            \"edit_history_tweet_ids\": [\n",
      "                \"1593704520323825667\"\n",
      "            ],\n",
      "            \"id\": \"1593704520323825667\",\n",
      "            \"text\": \"RT @UN: \\ud83d\\udd34 Conflict \\n\\ud83d\\udd34 Climate change\\n\\ud83d\\udd34 Rising costs\\n\\nThese challenges are fueling a global hunger crisis the world cannot afford. \\n\\nSee how\\u2026\"\n",
      "        },\n",
      "        {\n",
      "            \"edit_history_tweet_ids\": [\n",
      "                \"1593704511381831680\"\n",
      "            ],\n",
      "            \"id\": \"1593704511381831680\",\n",
      "            \"text\": \"RT @BangorPage: WHAT NEXT?? Britain has to pay \\\"reparations\\\" \\nfor causing the Industrial Revolution? \\nAnd reparations ALSO  for climate cha\\u2026\"\n",
      "        },\n",
      "        {\n",
      "            \"edit_history_tweet_ids\": [\n",
      "                \"1593704507355320320\"\n",
      "            ],\n",
      "            \"id\": \"1593704507355320320\",\n",
      "            \"text\": \"RT @Grum2many1: \\ud83d\\udea8No Climate Change\\u2753 \\n\\n\\ud83d\\udea8Tell that to 1.3 million people in NV, AZ, and CA who will be without power if Mead goes much lower!\\u2026\"\n",
      "        },\n",
      "        {\n",
      "            \"edit_history_tweet_ids\": [\n",
      "                \"1593704504578527234\"\n",
      "            ],\n",
      "            \"id\": \"1593704504578527234\",\n",
      "            \"text\": \"RT @DeeWardRottal: Todays one in 500 year flood. We\\u2019ve had 3 of them this year\\u2026\\u2026 @theresecoffey Now would be a good time to act on climate\\u2026\"\n",
      "        },\n",
      "        {\n",
      "            \"edit_history_tweet_ids\": [\n",
      "                \"1593704500937768961\"\n",
      "            ],\n",
      "            \"id\": \"1593704500937768961\",\n",
      "            \"text\": \"RT @lexfridman: Here's my conversation &amp; debate on climate change with @BjornLomborg and Andrew @Revkin. Bj\\u00f8rn is the author of False Alarm\\u2026\"\n",
      "        },\n",
      "        {\n",
      "            \"edit_history_tweet_ids\": [\n",
      "                \"1593704489445249024\"\n",
      "            ],\n",
      "            \"id\": \"1593704489445249024\",\n",
      "            \"text\": \"RT @bambooshooti: The U.S. and China are at least talking again, and that's good news for action on climate change. U.S. climate envoy John\\u2026\"\n",
      "        }\n",
      "    ],\n",
      "    \"meta\": {\n",
      "        \"newest_id\": \"1593704550334140416\",\n",
      "        \"next_token\": \"b26v89c19zqg8o3fpzhkhia9lft3aqert00y65gwwr5h9\",\n",
      "        \"oldest_id\": \"1593704489445249024\",\n",
      "        \"result_count\": 10\n",
      "    }\n",
      "}\n"
     ]
    }
   ],
   "source": [
    "url = create_url()\n",
    "json_response = connect_to_endpoint(url)\n",
    "\n",
    "print(json.dumps(json_response, indent=4, sort_keys=True))\n",
    "tweets = json_response"
   ]
  },
  {
   "cell_type": "code",
   "execution_count": null,
   "metadata": {},
   "outputs": [],
   "source": []
  }
 ],
 "metadata": {
  "kernelspec": {
   "display_name": "Python 3",
   "language": "python",
   "name": "python3"
  },
  "language_info": {
   "codemirror_mode": {
    "name": "ipython",
    "version": 3
   },
   "file_extension": ".py",
   "mimetype": "text/x-python",
   "name": "python",
   "nbconvert_exporter": "python",
   "pygments_lexer": "ipython3",
   "version": "3.7.6"
  }
 },
 "nbformat": 4,
 "nbformat_minor": 5
}
