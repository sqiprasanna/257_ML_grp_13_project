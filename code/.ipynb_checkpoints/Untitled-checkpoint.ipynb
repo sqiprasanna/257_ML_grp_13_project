{
 "cells": [
  {
   "cell_type": "code",
   "execution_count": null,
   "metadata": {},
   "outputs": [],
   "source": [
    "# This criterion is linked to a Learning OutcomeImplementation: Dimensionality Reduction + Classifier (30 + 30 + 10 for choice selected)\n",
    "# 70 pts\n",
    "# This criterion is linked to a Learning OutcomeReport in mentioned format: -1 for incorrect file name, -10 for improper report\n",
    "# 20 pts\n",
    "# This criterion is linked to a Learning OutcomeRank: 1-10: 10; 11-20: 7.5; 21-30: 5; 31<: 2.5; No submission:0\n",
    "# 10 pts"
   ]
  }
 ],
 "metadata": {
  "kernelspec": {
   "display_name": "ml",
   "language": "python",
   "name": "ml"
  },
  "language_info": {
   "codemirror_mode": {
    "name": "ipython",
    "version": 3
   },
   "file_extension": ".py",
   "mimetype": "text/x-python",
   "name": "python",
   "nbconvert_exporter": "python",
   "pygments_lexer": "ipython3",
   "version": "3.6.13"
  }
 },
 "nbformat": 4,
 "nbformat_minor": 4
}
