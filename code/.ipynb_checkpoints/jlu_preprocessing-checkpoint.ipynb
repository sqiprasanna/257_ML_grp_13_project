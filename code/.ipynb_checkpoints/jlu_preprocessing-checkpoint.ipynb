{
 "cells": [
  {
   "cell_type": "code",
   "execution_count": 6,
   "metadata": {},
   "outputs": [],
   "source": [
    "# Don't include names of people or cities\n",
    "# Split words by where capitalized letter is"
   ]
  },
  {
   "cell_type": "code",
   "execution_count": 3,
   "metadata": {},
   "outputs": [],
   "source": [
    "import re\n",
    "import numpy as np\n",
    "import pandas as pd\n",
    "import spacy\n",
    "from sklearn.feature_extraction.text import TfidfVectorizer"
   ]
  },
  {
   "cell_type": "code",
   "execution_count": 36,
   "metadata": {},
   "outputs": [],
   "source": [
    "def splitWords(t):\n",
    "    splitTweet = []\n",
    "    t = t.split(' ')\n",
    "    \n",
    "    for word in t:\n",
    "        res = re.search(r'[A-Z]', word)\n",
    "        if res is not None:\n",
    "            ch = word[res.span()[0]]\n",
    "            words = re.split(r'[A-Z]', word)\n",
    "            splitTweet.extend([words[0], ch + words[1]])\n",
    "        else:\n",
    "            splitTweet.extend(re.split(r'[\"|,;!|:*]', word))\n",
    "    \n",
    "    return ' '.join(splitTweet)"
   ]
  },
  {
   "cell_type": "code",
   "execution_count": 20,
   "metadata": {},
   "outputs": [],
   "source": [
    "def checkWord(token):\n",
    "    negations = ['not', 'no']\n",
    "    fillers = ['link', 'http']\n",
    "    return (not token.is_stop) and (token.is_alpha) and (token.text not in fillers) and ((token.text in negations) or (len(token.text) > 3))"
   ]
  },
  {
   "cell_type": "code",
   "execution_count": 37,
   "metadata": {},
   "outputs": [],
   "source": [
    "### Source: https://spacy.io/usage/linguistic-features\n",
    "\n",
    "def spacyPipeline(tweets):\n",
    "    nlp = spacy.load('en_core_web_sm')\n",
    "    \n",
    "    MIN_TWEET_LEN = 5\n",
    "    \n",
    "    indices = []\n",
    "    preprocessed_tweets = []\n",
    "    for index, t in enumerate(tweets):\n",
    "        \n",
    "        doc = nlp(t)\n",
    "        filtered_tweet = set()\n",
    "        \n",
    "        for token in doc:\n",
    "            # print(token, \" | \", spacy.explain(token.pos_))\n",
    "            if (token.lemma_ not in filtered_tweet) and checkWord(token):\n",
    "                filtered_tweet.add(token.lemma_.lower())\n",
    "        \n",
    "        if len(filtered_tweet) >= MIN_TWEET_LEN:\n",
    "#             print(filtered_tweet,\"\\n---\\n\")\n",
    "            preprocessed_tweets.append(filtered_tweet)\n",
    "            indices.append(index)\n",
    "    \n",
    "    return preprocessed_tweets, indices"
   ]
  },
  {
   "cell_type": "code",
   "execution_count": 8,
   "metadata": {},
   "outputs": [],
   "source": [
    "def convertClasses(c, indices):\n",
    "    classes = []\n",
    "    indices = set(indices)\n",
    "\n",
    "    neg = 0\n",
    "    pos = 1\n",
    "    \n",
    "    for index in indices:\n",
    "        if pd.isnull(c[index]) or c[index] == 'N' or c[index] == 'No':\n",
    "            classes.append(neg)\n",
    "        else:\n",
    "            classes.append(pos)\n",
    "    \n",
    "    return classes"
   ]
  },
  {
   "cell_type": "code",
   "execution_count": 14,
   "metadata": {},
   "outputs": [],
   "source": [
    "def preprocess(data):\n",
    "    tweets = data['tweet']\n",
    "    \n",
    "    # Convert all to lowercase\n",
    "    tweets = [splitWords(t) for t in tweets]\n",
    "    \n",
    "    # Process tweets through spaCy pipeline\n",
    "    tweets, indices = spacyPipeline(tweets)\n",
    "    \n",
    "    # Transform with TF-IDF\n",
    "    transformer = TfidfVectorizer()\n",
    "    tfidf_tweets = transformer.fit_transform([' '.join(t) for t in tweets])\n",
    "    \n",
    "    # Transform classes\n",
    "    classes = convertClasses(data[\"existence\"].tolist(), indices)\n",
    "    \n",
    "    return tfidf_tweets, classes"
   ]
  },
  {
   "cell_type": "code",
   "execution_count": null,
   "metadata": {},
   "outputs": [],
   "source": []
  }
 ],
 "metadata": {
  "kernelspec": {
   "display_name": "Python 3",
   "language": "python",
   "name": "python3"
  },
  "language_info": {
   "codemirror_mode": {
    "name": "ipython",
    "version": 3
   },
   "file_extension": ".py",
   "mimetype": "text/x-python",
   "name": "python",
   "nbconvert_exporter": "python",
   "pygments_lexer": "ipython3",
   "version": "3.7.6"
  }
 },
 "nbformat": 4,
 "nbformat_minor": 5
}
