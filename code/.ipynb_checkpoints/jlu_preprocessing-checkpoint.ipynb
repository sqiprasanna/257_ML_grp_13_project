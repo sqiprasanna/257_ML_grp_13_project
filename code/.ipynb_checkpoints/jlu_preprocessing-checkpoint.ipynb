{
 "cells": [
  {
   "cell_type": "markdown",
   "id": "07f13a0b",
   "metadata": {},
   "source": [
    "Sources:\n",
    "- https://spacy.io/usage/linguistic-features\n",
    "- https://stackoverflow.com/questions/3788870/how-to-check-if-a-word-is-an-english-word-with-python \n",
    "- https://stackoverflow.com/questions/18057962/regex-pattern-including-all-special-characters"
   ]
  },
  {
   "cell_type": "code",
   "execution_count": 1,
   "id": "e10c9098",
   "metadata": {
    "scrolled": true
   },
   "outputs": [],
   "source": [
    "import re\n",
    "import numpy as np\n",
    "import pandas as pd\n",
    "import spacy\n",
    "from sklearn.impute import SimpleImputer\n",
    "from sklearn.preprocessing import OrdinalEncoder\n",
    "from sklearn.feature_extraction.text import TfidfVectorizer\n",
    "import enchant"
   ]
  },
  {
   "cell_type": "code",
   "execution_count": 2,
   "id": "f6db5730",
   "metadata": {},
   "outputs": [],
   "source": [
    "def splitWords(t):\n",
    "    splitTweet = []\n",
    "    t = t.split(' ')\n",
    "    \n",
    "    for word in t:\n",
    "        # Not splitting links\n",
    "        if re.search(r'(bit.ly)|(http)|(.com)', word) is not None:\n",
    "            splitTweet.append(word)\n",
    "            continue\n",
    "        \n",
    "        # Split words conjoined together by punctuation i.e. \"act|Brussels\"\n",
    "        words = re.split(r'[\"|,;!|#:*&]', word)\n",
    "        \n",
    "        # Split words that are conjoined together i.e. \"EarthDay\"\n",
    "        for word in words:\n",
    "            # Remove words that are too short or contain special characters\n",
    "            if len(word) < 3 or re.search(r'[À-ȕ]', word) is not None:\n",
    "                continue\n",
    "            \n",
    "            res = re.search(r'[A-Z]{1}[a-z]{1,}[A-Z]{1}', word)\n",
    "\n",
    "            if res is not None:\n",
    "                i = res.span()[1]\n",
    "                splitTweet.extend([word[:i-1], word[i-1:]])\n",
    "            else:\n",
    "                splitTweet.extend([word])\n",
    "    \n",
    "    return ' '.join(splitTweet)"
   ]
  },
  {
   "cell_type": "code",
   "execution_count": 3,
   "id": "e4aecce5",
   "metadata": {},
   "outputs": [],
   "source": [
    "def checkToken(token):\n",
    "    fillers = set({'link', 'http'})\n",
    "    common = set() #set({'global', 'warming', 'climate', 'change'}) # Remove common signal between tweets\n",
    "    return (len(token.text) > 3) and (not token.is_stop) and (token.is_alpha) and (token.text.lower() not in fillers) and (token.text.lower() not in common)"
   ]
  },
  {
   "cell_type": "code",
   "execution_count": 4,
   "id": "0cf94e72",
   "metadata": {},
   "outputs": [],
   "source": [
    "def spacyPipeline(tweets, verbose=False):\n",
    "    nlp = spacy.load('en_core_web_sm')\n",
    "    enchant_dict = enchant.Dict(\"en_US\")\n",
    "    \n",
    "    MIN_TWEET_LEN = 4\n",
    "    \n",
    "    indices = []\n",
    "    preprocessed_tweets = []\n",
    "    for index, t in enumerate(tweets):\n",
    "           \n",
    "        if verbose:\n",
    "            print(t)\n",
    "        \n",
    "        # Tokenizing tweet with spaCy\n",
    "        doc = nlp(t)\n",
    "        filtered_tweet = set()\n",
    "        \n",
    "        # Finding country or city names\n",
    "        locs = set()\n",
    "        for ent in doc.ents:\n",
    "            if ent.label_ == \"GPE\" or ent.label_ == \"LOC\":\n",
    "                for word in ent.text.lower().split(' '):\n",
    "                    locs.add(word)\n",
    "                        \n",
    "        if verbose:\n",
    "            print(\"locs: \", locs)\n",
    "        \n",
    "        # Filter through words \n",
    "        for token in doc:\n",
    "            # Check for words not in english dictionary\n",
    "            if not enchant_dict.check((str(token.text.lower()))): \n",
    "                continue\n",
    "                \n",
    "            # Check for duplicate words\n",
    "            if token.lemma_ in filtered_tweet:\n",
    "                continue\n",
    "                \n",
    "            # print(token, \" | \", spacy.explain(token.pos_))\n",
    "            \n",
    "            if (token.text.lower() not in locs) and checkToken(token):\n",
    "                    filtered_tweet.add(token.lemma_.lower())\n",
    "        \n",
    "        if verbose:\n",
    "            print(filtered_tweet, \"\\n---\\n\")\n",
    "        \n",
    "        # Filter out tweets that have too few words\n",
    "        if len(filtered_tweet) >= MIN_TWEET_LEN:\n",
    "            preprocessed_tweets.append(filtered_tweet)\n",
    "            indices.append(index)\n",
    "    \n",
    "    return preprocessed_tweets, indices"
   ]
  },
  {
   "cell_type": "code",
   "execution_count": 5,
   "id": "826ea825",
   "metadata": {},
   "outputs": [],
   "source": [
    "def convertClasses(c, indices):\n",
    "    classes = []\n",
    "    \n",
    "    for index in indices:\n",
    "        if pd.isnull(c[index]) or re.search(r'N', c[index]) is not None:\n",
    "            classes.append(0)\n",
    "        else:\n",
    "            classes.append(1)\n",
    "    \n",
    "    return classes"
   ]
  },
  {
   "cell_type": "code",
   "execution_count": 6,
   "id": "da339f2e",
   "metadata": {},
   "outputs": [],
   "source": [
    "def preprocess(data, verbose=False):\n",
    "    tweets = data['tweet']\n",
    "    \n",
    "    # Convert all to lowercase\n",
    "    tweets = [splitWords(t) for t in tweets]\n",
    "    \n",
    "    # Process tweets through spaCy pipeline\n",
    "    tweets, indices = spacyPipeline(tweets,verbose)\n",
    "    \n",
    "    # Transform with TF-IDF\n",
    "    transformer = TfidfVectorizer(max_df=0.8)\n",
    "    tfidf_tweets = transformer.fit_transform([' '.join(t) for t in tweets])\n",
    "    \n",
    "    # Transform classes\n",
    "    classes = convertClasses(data[\"existence\"].tolist(), indices)\n",
    "    \n",
    "    return tfidf_tweets, classes"
   ]
  },
  {
   "cell_type": "code",
   "execution_count": null,
   "id": "9ff182fa",
   "metadata": {},
   "outputs": [],
   "source": []
  }
 ],
 "metadata": {
  "kernelspec": {
   "display_name": "Python 3 (ipykernel)",
   "language": "python",
   "name": "python3"
  },
  "language_info": {
   "codemirror_mode": {
    "name": "ipython",
    "version": 3
   },
   "file_extension": ".py",
   "mimetype": "text/x-python",
   "name": "python",
   "nbconvert_exporter": "python",
   "pygments_lexer": "ipython3",
   "version": "3.9.13"
  }
 },
 "nbformat": 4,
 "nbformat_minor": 5
}
