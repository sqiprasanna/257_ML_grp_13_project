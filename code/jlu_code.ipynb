{
 "cells": [
  {
   "cell_type": "code",
   "execution_count": 18,
   "id": "1340c85e",
   "metadata": {},
   "outputs": [],
   "source": [
    "import numpy as np\n",
    "import pandas as pd\n",
    "import spacy\n",
    "import matplotlib.pyplot as plt\n",
    "from sklearn.model_selection import train_test_split, cross_validate\n",
    "from sklearn.feature_extraction.text import TfidfVectorizer\n",
    "\n",
    "from sklearn.tree import DecisionTreeClassifier\n",
    "from sklearn.linear_model import Perceptron, LogisticRegression"
   ]
  },
  {
   "cell_type": "markdown",
   "id": "5b00ba70",
   "metadata": {},
   "source": [
    "## Reading Data"
   ]
  },
  {
   "cell_type": "markdown",
   "id": "fa96c399",
   "metadata": {},
   "source": [
    "Original Data"
   ]
  },
  {
   "cell_type": "code",
   "execution_count": 13,
   "id": "5feadd4c",
   "metadata": {
    "scrolled": false
   },
   "outputs": [
    {
     "data": {
      "text/html": [
       "<div>\n",
       "<style scoped>\n",
       "    .dataframe tbody tr th:only-of-type {\n",
       "        vertical-align: middle;\n",
       "    }\n",
       "\n",
       "    .dataframe tbody tr th {\n",
       "        vertical-align: top;\n",
       "    }\n",
       "\n",
       "    .dataframe thead th {\n",
       "        text-align: right;\n",
       "    }\n",
       "</style>\n",
       "<table border=\"1\" class=\"dataframe\">\n",
       "  <thead>\n",
       "    <tr style=\"text-align: right;\">\n",
       "      <th></th>\n",
       "      <th>tweet</th>\n",
       "      <th>existence</th>\n",
       "      <th>existence.confidence</th>\n",
       "    </tr>\n",
       "  </thead>\n",
       "  <tbody>\n",
       "    <tr>\n",
       "      <th>0</th>\n",
       "      <td>Global warming report urges governments to act...</td>\n",
       "      <td>Yes</td>\n",
       "      <td>1.0000</td>\n",
       "    </tr>\n",
       "    <tr>\n",
       "      <th>1</th>\n",
       "      <td>Fighting poverty and global warming in Africa ...</td>\n",
       "      <td>Yes</td>\n",
       "      <td>1.0000</td>\n",
       "    </tr>\n",
       "    <tr>\n",
       "      <th>2</th>\n",
       "      <td>Carbon offsets: How a Vatican forest failed to...</td>\n",
       "      <td>Yes</td>\n",
       "      <td>0.8786</td>\n",
       "    </tr>\n",
       "    <tr>\n",
       "      <th>4</th>\n",
       "      <td>URUGUAY: Tools Needed for Those Most Vulnerabl...</td>\n",
       "      <td>Yes</td>\n",
       "      <td>0.8087</td>\n",
       "    </tr>\n",
       "    <tr>\n",
       "      <th>5</th>\n",
       "      <td>RT @sejorg: RT @JaymiHeimbuch: Ocean Saltiness...</td>\n",
       "      <td>Yes</td>\n",
       "      <td>1.0000</td>\n",
       "    </tr>\n",
       "  </tbody>\n",
       "</table>\n",
       "</div>"
      ],
      "text/plain": [
       "                                               tweet existence  \\\n",
       "0  Global warming report urges governments to act...       Yes   \n",
       "1  Fighting poverty and global warming in Africa ...       Yes   \n",
       "2  Carbon offsets: How a Vatican forest failed to...       Yes   \n",
       "4  URUGUAY: Tools Needed for Those Most Vulnerabl...       Yes   \n",
       "5  RT @sejorg: RT @JaymiHeimbuch: Ocean Saltiness...       Yes   \n",
       "\n",
       "   existence.confidence  \n",
       "0                1.0000  \n",
       "1                1.0000  \n",
       "2                0.8786  \n",
       "4                0.8087  \n",
       "5                1.0000  "
      ]
     },
     "execution_count": 13,
     "metadata": {},
     "output_type": "execute_result"
    }
   ],
   "source": [
    "data = pd.read_excel('global_warming_tweets.xls')\n",
    "data.drop_duplicates(subset=[\"tweet\"], inplace=True)\n",
    "data.head()"
   ]
  },
  {
   "cell_type": "markdown",
   "id": "af5c0076",
   "metadata": {},
   "source": [
    "Web Scraped Data"
   ]
  },
  {
   "cell_type": "code",
   "execution_count": 14,
   "id": "872cfc0b",
   "metadata": {},
   "outputs": [
    {
     "name": "stdout",
     "output_type": "stream",
     "text": [
      "(503, 1)\n"
     ]
    },
    {
     "data": {
      "text/html": [
       "<div>\n",
       "<style scoped>\n",
       "    .dataframe tbody tr th:only-of-type {\n",
       "        vertical-align: middle;\n",
       "    }\n",
       "\n",
       "    .dataframe tbody tr th {\n",
       "        vertical-align: top;\n",
       "    }\n",
       "\n",
       "    .dataframe thead th {\n",
       "        text-align: right;\n",
       "    }\n",
       "</style>\n",
       "<table border=\"1\" class=\"dataframe\">\n",
       "  <thead>\n",
       "    <tr style=\"text-align: right;\">\n",
       "      <th></th>\n",
       "      <th>tweets</th>\n",
       "    </tr>\n",
       "  </thead>\n",
       "  <tbody>\n",
       "    <tr>\n",
       "      <th>0</th>\n",
       "      <td>A small but growing number of older people are...</td>\n",
       "    </tr>\n",
       "    <tr>\n",
       "      <th>1</th>\n",
       "      <td>this might sound cynical but i’ve always wonde...</td>\n",
       "    </tr>\n",
       "    <tr>\n",
       "      <th>2</th>\n",
       "      <td>Climate Change is the biggest scam of the last...</td>\n",
       "    </tr>\n",
       "    <tr>\n",
       "      <th>3</th>\n",
       "      <td>Vegans will literally come after Indigenous pe...</td>\n",
       "    </tr>\n",
       "    <tr>\n",
       "      <th>4</th>\n",
       "      <td>Türkiye should be central to environment, clim...</td>\n",
       "    </tr>\n",
       "  </tbody>\n",
       "</table>\n",
       "</div>"
      ],
      "text/plain": [
       "                                              tweets\n",
       "0  A small but growing number of older people are...\n",
       "1  this might sound cynical but i’ve always wonde...\n",
       "2  Climate Change is the biggest scam of the last...\n",
       "3  Vegans will literally come after Indigenous pe...\n",
       "4  Türkiye should be central to environment, clim..."
      ]
     },
     "execution_count": 14,
     "metadata": {},
     "output_type": "execute_result"
    }
   ],
   "source": [
    "rawScrapedTweets = []\n",
    "\n",
    "with open(\"scrapedTweets.txt\") as fh:\n",
    "    d = fh.read()\n",
    "    rawScrapedTweets = d.split('\\n')\n",
    "\n",
    "scrapedTweets = pd.DataFrame(rawScrapedTweets, columns=[\"tweets\"])\n",
    "\n",
    "print(scrapedTweets.shape)\n",
    "scrapedTweets.head()"
   ]
  },
  {
   "cell_type": "markdown",
   "id": "b299c503",
   "metadata": {},
   "source": [
    "## Testing"
   ]
  },
  {
   "cell_type": "markdown",
   "id": "0e09f426",
   "metadata": {},
   "source": [
    "Data Exploration"
   ]
  },
  {
   "cell_type": "code",
   "execution_count": 6,
   "id": "114af74d",
   "metadata": {
    "scrolled": true
   },
   "outputs": [
    {
     "data": {
      "text/plain": [
       "<BarContainer object of 2 artists>"
      ]
     },
     "execution_count": 6,
     "metadata": {},
     "output_type": "execute_result"
    },
    {
     "data": {
      "image/png": "[encoded data removed]",
      "text/plain": [
       "<Figure size 300x300 with 1 Axes>"
      ]
     },
     "metadata": {},
     "output_type": "display_data"
    }
   ],
   "source": [
    "size = len(data[\"existence\"])\n",
    "cnt = [0, 0]\n",
    "\n",
    "for val in data[\"existence\"]:\n",
    "    if pd.isnull(val) or val == \"N\" or val == \"No\":\n",
    "        cnt[0] += 1\n",
    "    else:\n",
    "        cnt[1] += 1\n",
    "\n",
    "plt.figure(figsize=(3,3))\n",
    "plt.bar([0, 1], cnt)"
   ]
  },
  {
   "cell_type": "markdown",
   "id": "264b0cd5",
   "metadata": {},
   "source": [
    "Running Algorithms"
   ]
  },
  {
   "cell_type": "code",
   "execution_count": 76,
   "id": "99707fa3",
   "metadata": {
    "scrolled": true
   },
   "outputs": [],
   "source": [
    "%run ./jlu_preprocessing.ipynb\n",
    "\n",
    "X, Y = preprocess(data)"
   ]
  },
  {
   "cell_type": "code",
   "execution_count": 77,
   "id": "37bd4dd4",
   "metadata": {},
   "outputs": [],
   "source": [
    "X_train, X_test, Y_train, Y_test = train_test_split(X, Y, test_size=0.2)"
   ]
  },
  {
   "cell_type": "code",
   "execution_count": 78,
   "id": "53508897",
   "metadata": {},
   "outputs": [
    {
     "name": "stdout",
     "output_type": "stream",
     "text": [
      "[0.87363448 0.87452022 0.87097727 0.87747269 0.87514758 0.87101535\n",
      " 0.87957497 0.87691854 0.87190083 0.87219599] \n",
      " [0.72944297 0.72413793 0.74801061 0.71883289 0.7287234  0.73138298\n",
      " 0.67287234 0.74468085 0.76329787 0.71010638]\n"
     ]
    }
   ],
   "source": [
    "# model = DecisionTreeClassifier()\n",
    "model = LogisticRegression()\n",
    "# model = Perceptron()\n",
    "\n",
    "cv = cross_validate(model, X_train, Y_train, cv=10, return_estimator=True, return_train_score=True)\n",
    "print(cv[\"train_score\"], \"\\n\", cv[\"test_score\"])\n",
    "\n",
    "i = np.argmax(cv[\"test_score\"])\n",
    "model = cv[\"estimator\"][i]\n",
    "\n",
    "clf = model.fit(X_train, Y_train)\n",
    "\n",
    "pred = model.predict(X_train)\n",
    "pred2 = model.predict(X_test)"
   ]
  },
  {
   "cell_type": "code",
   "execution_count": 79,
   "id": "dc501f17",
   "metadata": {},
   "outputs": [
    {
     "name": "stdout",
     "output_type": "stream",
     "text": [
      "Training accuracy:  0.8674282678002125\n",
      "Testing accuracy:  0.7208067940552016\n"
     ]
    }
   ],
   "source": [
    "from sklearn.metrics import accuracy_score\n",
    "\n",
    "print(\"Training accuracy: \", accuracy_score(Y_train, pred))\n",
    "print(\"Testing accuracy: \", accuracy_score(Y_test, pred2))"
   ]
  },
  {
   "cell_type": "code",
   "execution_count": 11,
   "id": "8b2cdd6e",
   "metadata": {},
   "outputs": [],
   "source": [
    "### No additional preprocessing\n",
    "\n",
    "## Logistic Regression\n",
    "#Training accuracy: 0.8524368231046932\n",
    "#Testing accuracy:  0.7105500450856628\n",
    "\n",
    "## Perceptron\n",
    "#Training accuracy:  0.9318592057761733\n",
    "#Testing accuracy:  0.6853020739404869"
   ]
  }
 ],
 "metadata": {
  "kernelspec": {
   "display_name": "Python 3 (ipykernel)",
   "language": "python",
   "name": "python3"
  },
  "language_info": {
   "codemirror_mode": {
    "name": "ipython",
    "version": 3
   },
   "file_extension": ".py",
   "mimetype": "text/x-python",
   "name": "python",
   "nbconvert_exporter": "python",
   "pygments_lexer": "ipython3",
   "version": "3.9.13"
  }
 },
 "nbformat": 4,
 "nbformat_minor": 5
}
