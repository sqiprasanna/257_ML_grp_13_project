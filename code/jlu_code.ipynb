{
 "cells": [
  {
   "cell_type": "code",
   "execution_count": 157,
   "id": "1340c85e",
   "metadata": {},
   "outputs": [],
   "source": [
    "import numpy as np\n",
    "import pandas as pd\n",
    "import spacy\n",
    "import matplotlib.pyplot as plt\n",
    "from sklearn.model_selection import train_test_split, cross_validate\n",
    "from sklearn.feature_extraction.text import TfidfVectorizer\n",
    "\n",
    "from sklearn.tree import DecisionTreeClassifier\n",
    "from sklearn.linear_model import Perceptron, LogisticRegression"
   ]
  },
  {
   "cell_type": "markdown",
   "id": "4a9fd9c8",
   "metadata": {},
   "source": [
    "## Reading Data"
   ]
  },
  {
   "cell_type": "markdown",
   "id": "e29576cc",
   "metadata": {},
   "source": [
    "Original Data"
   ]
  },
  {
   "cell_type": "code",
   "execution_count": 158,
   "id": "5feadd4c",
   "metadata": {
    "scrolled": false
   },
   "outputs": [
    {
     "data": {
      "text/html": [
       "<div>\n",
       "<style scoped>\n",
       "    .dataframe tbody tr th:only-of-type {\n",
       "        vertical-align: middle;\n",
       "    }\n",
       "\n",
       "    .dataframe tbody tr th {\n",
       "        vertical-align: top;\n",
       "    }\n",
       "\n",
       "    .dataframe thead th {\n",
       "        text-align: right;\n",
       "    }\n",
       "</style>\n",
       "<table border=\"1\" class=\"dataframe\">\n",
       "  <thead>\n",
       "    <tr style=\"text-align: right;\">\n",
       "      <th></th>\n",
       "      <th>tweet</th>\n",
       "      <th>existence</th>\n",
       "      <th>existence.confidence</th>\n",
       "    </tr>\n",
       "  </thead>\n",
       "  <tbody>\n",
       "    <tr>\n",
       "      <th>0</th>\n",
       "      <td>Global warming report urges governments to act...</td>\n",
       "      <td>Yes</td>\n",
       "      <td>1.0000</td>\n",
       "    </tr>\n",
       "    <tr>\n",
       "      <th>1</th>\n",
       "      <td>Fighting poverty and global warming in Africa ...</td>\n",
       "      <td>Yes</td>\n",
       "      <td>1.0000</td>\n",
       "    </tr>\n",
       "    <tr>\n",
       "      <th>2</th>\n",
       "      <td>Carbon offsets: How a Vatican forest failed to...</td>\n",
       "      <td>Yes</td>\n",
       "      <td>0.8786</td>\n",
       "    </tr>\n",
       "    <tr>\n",
       "      <th>4</th>\n",
       "      <td>URUGUAY: Tools Needed for Those Most Vulnerabl...</td>\n",
       "      <td>Yes</td>\n",
       "      <td>0.8087</td>\n",
       "    </tr>\n",
       "    <tr>\n",
       "      <th>5</th>\n",
       "      <td>RT @sejorg: RT @JaymiHeimbuch: Ocean Saltiness...</td>\n",
       "      <td>Yes</td>\n",
       "      <td>1.0000</td>\n",
       "    </tr>\n",
       "  </tbody>\n",
       "</table>\n",
       "</div>"
      ],
      "text/plain": [
       "                                               tweet existence  \\\n",
       "0  Global warming report urges governments to act...       Yes   \n",
       "1  Fighting poverty and global warming in Africa ...       Yes   \n",
       "2  Carbon offsets: How a Vatican forest failed to...       Yes   \n",
       "4  URUGUAY: Tools Needed for Those Most Vulnerabl...       Yes   \n",
       "5  RT @sejorg: RT @JaymiHeimbuch: Ocean Saltiness...       Yes   \n",
       "\n",
       "   existence.confidence  \n",
       "0                1.0000  \n",
       "1                1.0000  \n",
       "2                0.8786  \n",
       "4                0.8087  \n",
       "5                1.0000  "
      ]
     },
     "execution_count": 158,
     "metadata": {},
     "output_type": "execute_result"
    }
   ],
   "source": [
    "original_data = pd.read_excel('global_warming_tweets.xls')\n",
    "original_data.drop_duplicates(subset=[\"tweet\"], inplace=True)\n",
    "\n",
    "data = original_data\n",
    "\n",
    "data.head()"
   ]
  },
  {
   "cell_type": "markdown",
   "id": "15138169",
   "metadata": {},
   "source": [
    "Web Scraped Data"
   ]
  },
  {
   "cell_type": "code",
   "execution_count": 159,
   "id": "872cfc0b",
   "metadata": {},
   "outputs": [],
   "source": [
    "# rawScrapedTweets = []\n",
    "\n",
    "# with open(\"scrapedTweets.txt\") as fh:\n",
    "#     d = fh.read()\n",
    "#     rawScrapedTweets = d.split('\\n')\n",
    "\n",
    "# scrapedTweets = pd.DataFrame(rawScrapedTweets, columns=[\"tweets\"])\n",
    "\n",
    "# print(scrapedTweets.shape)\n",
    "# scrapedTweets.head()"
   ]
  },
  {
   "cell_type": "markdown",
   "id": "8eae0b8c",
   "metadata": {},
   "source": [
    "## Testing"
   ]
  },
  {
   "cell_type": "markdown",
   "id": "ee09f1d7",
   "metadata": {},
   "source": [
    "Data Exploration"
   ]
  },
  {
   "cell_type": "code",
   "execution_count": 160,
   "id": "114af74d",
   "metadata": {
    "scrolled": true
   },
   "outputs": [
    {
     "data": {
      "text/plain": [
       "<BarContainer object of 2 artists>"
      ]
     },
     "execution_count": 160,
     "metadata": {},
     "output_type": "execute_result"
    },
    {
     "data": {
      "image/png": "[encoded data removed]",
      "text/plain": [
       "<Figure size 300x300 with 1 Axes>"
      ]
     },
     "metadata": {},
     "output_type": "display_data"
    }
   ],
   "source": [
    "size = len(data[\"existence\"])\n",
    "cnt = [0, 0]\n",
    "\n",
    "for val in data[\"existence\"]:\n",
    "    if pd.isnull(val) or val == \"N\" or val == \"No\":\n",
    "        cnt[0] += 1\n",
    "    else:\n",
    "        cnt[1] += 1\n",
    "\n",
    "plt.figure(figsize=(3,3))\n",
    "plt.bar([0, 1], cnt)"
   ]
  },
  {
   "cell_type": "markdown",
   "id": "52a2a08a",
   "metadata": {},
   "source": [
    "Running Algorithms"
   ]
  },
  {
   "cell_type": "code",
   "execution_count": 161,
   "id": "99707fa3",
   "metadata": {
    "scrolled": true
   },
   "outputs": [],
   "source": [
    "%run ./jlu_preprocessing.ipynb\n",
    "\n",
    "X, Y = preprocess(data)"
   ]
  },
  {
   "cell_type": "code",
   "execution_count": 162,
   "id": "37bd4dd4",
   "metadata": {},
   "outputs": [],
   "source": [
    "X_train, X_test, Y_train, Y_test = train_test_split(X, Y, test_size=0.2)"
   ]
  },
  {
   "cell_type": "code",
   "execution_count": 163,
   "id": "53508897",
   "metadata": {},
   "outputs": [
    {
     "data": {
      "image/png": "[encoded data removed]",
      "text/plain": [
       "<Figure size 640x480 with 1 Axes>"
      ]
     },
     "metadata": {},
     "output_type": "display_data"
    }
   ],
   "source": [
    "# model = DecisionTreeClassifier()\n",
    "model = LogisticRegression()\n",
    "# model = Perceptron()\n",
    "\n",
    "cv = cross_validate(model, X_train, Y_train, cv=10, return_estimator=True, return_train_score=True)\n",
    "\n",
    "clf = model.fit(X_train, Y_train)\n",
    "pred = model.predict(X_train)\n",
    "pred2 = model.predict(X_test)\n",
    "\n",
    "plt.plot(cv[\"train_score\"])\n",
    "plt.plot(cv[\"test_score\"])\n",
    "plt.show()"
   ]
  },
  {
   "cell_type": "code",
   "execution_count": 164,
   "id": "dc501f17",
   "metadata": {},
   "outputs": [
    {
     "name": "stdout",
     "output_type": "stream",
     "text": [
      "Training accuracy:  0.8677552897884084\n",
      "Testing accuracy:  0.718491260349586\n"
     ]
    }
   ],
   "source": [
    "from sklearn.metrics import accuracy_score\n",
    "\n",
    "print(\"Training accuracy: \", accuracy_score(Y_train, pred))\n",
    "print(\"Testing accuracy: \", accuracy_score(Y_test, pred2))"
   ]
  },
  {
   "cell_type": "code",
   "execution_count": 165,
   "id": "8b2cdd6e",
   "metadata": {},
   "outputs": [],
   "source": [
    "## Logistic Regression\n",
    "# Training accuracy: 0.8754008245533669\n",
    "# Testing accuracy:  0.0.7161172161172161\n",
    "\n",
    "## Perceptron\n",
    "# Training accuracy:  0.9573980760421439\n",
    "# Testing accuracy:  0.7014652014652014"
   ]
  },
  {
   "cell_type": "code",
   "execution_count": null,
   "id": "3bde7855",
   "metadata": {},
   "outputs": [],
   "source": []
  }
 ],
 "metadata": {
  "kernelspec": {
   "display_name": "Python 3 (ipykernel)",
   "language": "python",
   "name": "python3"
  },
  "language_info": {
   "codemirror_mode": {
    "name": "ipython",
    "version": 3
   },
   "file_extension": ".py",
   "mimetype": "text/x-python",
   "name": "python",
   "nbconvert_exporter": "python",
   "pygments_lexer": "ipython3",
   "version": "3.9.13"
  }
 },
 "nbformat": 4,
 "nbformat_minor": 5
}
