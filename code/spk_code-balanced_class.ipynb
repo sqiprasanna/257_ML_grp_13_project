{
 "cells": [
  {
   "cell_type": "code",
   "execution_count": 1,
   "metadata": {
    "id": "vV-oYScto9iU"
   },
   "outputs": [
    {
     "data": {
      "text/html": [
       "        <script type=\"text/javascript\">\n",
       "        window.PlotlyConfig = {MathJaxConfig: 'local'};\n",
       "        if (window.MathJax && window.MathJax.Hub && window.MathJax.Hub.Config) {window.MathJax.Hub.Config({SVG: {font: \"STIX-Web\"}});}\n",
       "        if (typeof require !== 'undefined') {\n",
       "        require.undef(\"plotly\");\n",
       "        requirejs.config({\n",
       "            paths: {\n",
       "                'plotly': ['https://cdn.plot.ly/plotly-2.16.1.min']\n",
       "            }\n",
       "        });\n",
       "        require(['plotly'], function(Plotly) {\n",
       "            window._Plotly = Plotly;\n",
       "        });\n",
       "        }\n",
       "        </script>\n",
       "        "
      ]
     },
     "metadata": {},
     "output_type": "display_data"
    },
    {
     "data": {
      "text/html": [
       "        <script type=\"text/javascript\">\n",
       "        window.PlotlyConfig = {MathJaxConfig: 'local'};\n",
       "        if (window.MathJax && window.MathJax.Hub && window.MathJax.Hub.Config) {window.MathJax.Hub.Config({SVG: {font: \"STIX-Web\"}});}\n",
       "        if (typeof require !== 'undefined') {\n",
       "        require.undef(\"plotly\");\n",
       "        requirejs.config({\n",
       "            paths: {\n",
       "                'plotly': ['https://cdn.plot.ly/plotly-2.16.1.min']\n",
       "            }\n",
       "        });\n",
       "        require(['plotly'], function(Plotly) {\n",
       "            window._Plotly = Plotly;\n",
       "        });\n",
       "        }\n",
       "        </script>\n",
       "        "
      ]
     },
     "metadata": {},
     "output_type": "display_data"
    }
   ],
   "source": [
    "import numpy as np\n",
    "import pandas as pd\n",
    "import spacy\n",
    "import matplotlib.pyplot as plt \n",
    "from itertools import chain\n",
    "from wordcloud import WordCloud, STOPWORDS \n",
    "from nltk.stem import PorterStemmer\n",
    "import re\n",
    "\n",
    "import cufflinks as cf\n",
    "cf.go_offline()\n",
    "cf.set_config_file(offline=False, world_readable=True)\n",
    "\n",
    "%run ./jlu_preprocessing.ipynb\n",
    "%run ./spk_preprocessing.ipynb"
   ]
  },
  {
   "cell_type": "code",
   "execution_count": 2,
   "metadata": {
    "colab": {
     "base_uri": "https://localhost:8080/"
    },
    "id": "jzEctOLTgBgG",
    "outputId": "306aba10-e11a-47d3-96f6-c25168859bfa"
   },
   "outputs": [],
   "source": [
    "# from google.colab import drive\n",
    "# drive.mount('/content/gdrive')"
   ]
  },
  {
   "cell_type": "code",
   "execution_count": 3,
   "metadata": {},
   "outputs": [
    {
     "data": {
      "text/html": [
       "<div>\n",
       "<style scoped>\n",
       "    .dataframe tbody tr th:only-of-type {\n",
       "        vertical-align: middle;\n",
       "    }\n",
       "\n",
       "    .dataframe tbody tr th {\n",
       "        vertical-align: top;\n",
       "    }\n",
       "\n",
       "    .dataframe thead th {\n",
       "        text-align: right;\n",
       "    }\n",
       "</style>\n",
       "<table border=\"1\" class=\"dataframe\">\n",
       "  <thead>\n",
       "    <tr style=\"text-align: right;\">\n",
       "      <th></th>\n",
       "      <th>tweet</th>\n",
       "      <th>existence</th>\n",
       "      <th>existence.confidence</th>\n",
       "    </tr>\n",
       "  </thead>\n",
       "  <tbody>\n",
       "    <tr>\n",
       "      <th>0</th>\n",
       "      <td>Global warming report urges governments to act...</td>\n",
       "      <td>Yes</td>\n",
       "      <td>1.0000</td>\n",
       "    </tr>\n",
       "    <tr>\n",
       "      <th>1</th>\n",
       "      <td>Fighting poverty and global warming in Africa ...</td>\n",
       "      <td>Yes</td>\n",
       "      <td>1.0000</td>\n",
       "    </tr>\n",
       "    <tr>\n",
       "      <th>2</th>\n",
       "      <td>Carbon offsets: How a Vatican forest failed to...</td>\n",
       "      <td>Yes</td>\n",
       "      <td>0.8786</td>\n",
       "    </tr>\n",
       "    <tr>\n",
       "      <th>3</th>\n",
       "      <td>Carbon offsets: How a Vatican forest failed to...</td>\n",
       "      <td>Yes</td>\n",
       "      <td>1.0000</td>\n",
       "    </tr>\n",
       "    <tr>\n",
       "      <th>4</th>\n",
       "      <td>URUGUAY: Tools Needed for Those Most Vulnerabl...</td>\n",
       "      <td>Yes</td>\n",
       "      <td>0.8087</td>\n",
       "    </tr>\n",
       "  </tbody>\n",
       "</table>\n",
       "</div>"
      ],
      "text/plain": [
       "                                               tweet existence  \\\n",
       "0  Global warming report urges governments to act...       Yes   \n",
       "1  Fighting poverty and global warming in Africa ...       Yes   \n",
       "2  Carbon offsets: How a Vatican forest failed to...       Yes   \n",
       "3  Carbon offsets: How a Vatican forest failed to...       Yes   \n",
       "4  URUGUAY: Tools Needed for Those Most Vulnerabl...       Yes   \n",
       "\n",
       "   existence.confidence  \n",
       "0                1.0000  \n",
       "1                1.0000  \n",
       "2                0.8786  \n",
       "3                1.0000  \n",
       "4                0.8087  "
      ]
     },
     "execution_count": 3,
     "metadata": {},
     "output_type": "execute_result"
    }
   ],
   "source": [
    "# data = pd.read_excel(r'C:/Users/Checkout/Desktop/SJSU/sem1/257-ML/Project/global_warming_tweets.xls')\n",
    "data = pd.read_csv(r'C:/Users/Checkout/Desktop/SJSU/sem1/257-ML/Project/global_warming_tweets_main.csv', engine='python') #encoding = \"cp1252\"\n",
    "data.head()"
   ]
  },
  {
   "cell_type": "code",
   "execution_count": 4,
   "metadata": {},
   "outputs": [],
   "source": [
    "# data[data['existence']==\"No\"].tweet\n",
    "data['existence'] = data['existence'].fillna('No')"
   ]
  },
  {
   "cell_type": "code",
   "execution_count": 5,
   "metadata": {},
   "outputs": [
    {
     "name": "stdout",
     "output_type": "stream",
     "text": [
      "Y      2554\n",
      "No     1926\n",
      "N      1053\n",
      "Yes     557\n",
      "Name: existence, dtype: int64\n"
     ]
    }
   ],
   "source": [
    "print(data['existence'].value_counts())"
   ]
  },
  {
   "cell_type": "code",
   "execution_count": 6,
   "metadata": {
    "colab": {
     "base_uri": "https://localhost:8080/",
     "height": 258
    },
    "id": "jzlH830QEEq7",
    "outputId": "cc28841b-f3b1-44a0-e2f3-4169e3bed3b2"
   },
   "outputs": [
    {
     "name": "stdout",
     "output_type": "stream",
     "text": [
      "(5960, 4)\n",
      "Yes    3029\n",
      "No     2931\n",
      "Name: existence, dtype: int64\n",
      "(5960, 4)\n"
     ]
    },
    {
     "data": {
      "text/html": [
       "<div>\n",
       "<style scoped>\n",
       "    .dataframe tbody tr th:only-of-type {\n",
       "        vertical-align: middle;\n",
       "    }\n",
       "\n",
       "    .dataframe tbody tr th {\n",
       "        vertical-align: top;\n",
       "    }\n",
       "\n",
       "    .dataframe thead th {\n",
       "        text-align: right;\n",
       "    }\n",
       "</style>\n",
       "<table border=\"1\" class=\"dataframe\">\n",
       "  <thead>\n",
       "    <tr style=\"text-align: right;\">\n",
       "      <th></th>\n",
       "      <th>tweet</th>\n",
       "      <th>existence</th>\n",
       "      <th>existence.confidence</th>\n",
       "      <th>word_count</th>\n",
       "    </tr>\n",
       "  </thead>\n",
       "  <tbody>\n",
       "    <tr>\n",
       "      <th>0</th>\n",
       "      <td>Global warming report urges governments to act...</td>\n",
       "      <td>Yes</td>\n",
       "      <td>1.0000</td>\n",
       "      <td>18</td>\n",
       "    </tr>\n",
       "    <tr>\n",
       "      <th>1</th>\n",
       "      <td>Fighting poverty and global warming in Africa ...</td>\n",
       "      <td>Yes</td>\n",
       "      <td>1.0000</td>\n",
       "      <td>8</td>\n",
       "    </tr>\n",
       "    <tr>\n",
       "      <th>2</th>\n",
       "      <td>Carbon offsets: How a Vatican forest failed to...</td>\n",
       "      <td>Yes</td>\n",
       "      <td>0.8786</td>\n",
       "      <td>12</td>\n",
       "    </tr>\n",
       "    <tr>\n",
       "      <th>3</th>\n",
       "      <td>Carbon offsets: How a Vatican forest failed to...</td>\n",
       "      <td>Yes</td>\n",
       "      <td>1.0000</td>\n",
       "      <td>12</td>\n",
       "    </tr>\n",
       "    <tr>\n",
       "      <th>4</th>\n",
       "      <td>URUGUAY: Tools Needed for Those Most Vulnerabl...</td>\n",
       "      <td>Yes</td>\n",
       "      <td>0.8087</td>\n",
       "      <td>11</td>\n",
       "    </tr>\n",
       "  </tbody>\n",
       "</table>\n",
       "</div>"
      ],
      "text/plain": [
       "                                               tweet existence  \\\n",
       "0  Global warming report urges governments to act...       Yes   \n",
       "1  Fighting poverty and global warming in Africa ...       Yes   \n",
       "2  Carbon offsets: How a Vatican forest failed to...       Yes   \n",
       "3  Carbon offsets: How a Vatican forest failed to...       Yes   \n",
       "4  URUGUAY: Tools Needed for Those Most Vulnerabl...       Yes   \n",
       "\n",
       "   existence.confidence  word_count  \n",
       "0                1.0000          18  \n",
       "1                1.0000           8  \n",
       "2                0.8786          12  \n",
       "3                1.0000          12  \n",
       "4                0.8087          11  "
      ]
     },
     "execution_count": 6,
     "metadata": {},
     "output_type": "execute_result"
    }
   ],
   "source": [
    "data['word_count'] = data['tweet'].apply(lambda x: len(x.split(\" \")))\n",
    "data = data.drop_duplicates()\n",
    "data = data.dropna()\n",
    "data.loc[data['existence'] == 'Y','existence'] = \"Yes\"\n",
    "data.loc[data['existence'] == 'N','existence'] = \"No\"\n",
    "print(data.shape)\n",
    "data.dropna()\n",
    "data.loc[data['existence'] == np.nan,'existence'] = \"No\"\n",
    "print(data['existence'].value_counts())\n",
    "print(data.shape)\n",
    "data.head()"
   ]
  },
  {
   "cell_type": "code",
   "execution_count": 7,
   "metadata": {
    "colab": {
     "base_uri": "https://localhost:8080/"
    },
    "id": "oDLfweEJaxj8",
    "outputId": "82559558-7c40-49b5-fdf4-bf168f421b15",
    "scrolled": false
   },
   "outputs": [
    {
     "data": {
      "text/plain": [
       "0       Global warming report urges governments to act...\n",
       "1       Fighting poverty and global warming in Africa ...\n",
       "2       Carbon offsets: How a Vatican forest failed to...\n",
       "3       Carbon offsets: How a Vatican forest failed to...\n",
       "4       URUGUAY: Tools Needed for Those Most Vulnerabl...\n",
       "                              ...                        \n",
       "6084    It's 83•_Á and climbing in NYC. August weather...\n",
       "6085    @bloodless_coup \"The phrase 'global warming' s...\n",
       "6087    Global warming you tube parody you will enjoy ...\n",
       "6088    One-Eyed Golfer: Don't dare tell me about glob...\n",
       "6089    man made global warming a hair brained theory ...\n",
       "Name: tweet, Length: 4134, dtype: object"
      ]
     },
     "execution_count": 7,
     "metadata": {},
     "output_type": "execute_result"
    }
   ],
   "source": [
    "data['tweet']"
   ]
  },
  {
   "cell_type": "code",
   "execution_count": 7,
   "metadata": {},
   "outputs": [
    {
     "data": {
      "text/plain": [
       "0       Global warming report urges governments to act...\n",
       "1       Fighting poverty and global warming in Africa ...\n",
       "2       Carbon offsets: How a Vatican forest failed to...\n",
       "3       Carbon offsets: How a Vatican forest failed to...\n",
       "4       URUGUAY: Tools Needed for Those Most Vulnerabl...\n",
       "                              ...                        \n",
       "6085    @bloodless_coup \"The phrase 'global warming' s...\n",
       "6086    Virginia to Investigate Global Warming Scienti...\n",
       "6087    Global warming you tube parody you will enjoy ...\n",
       "6088    One-Eyed Golfer: Don't dare tell me about glob...\n",
       "6089    man made global warming a hair brained theory ...\n",
       "Name: tweet, Length: 5960, dtype: object"
      ]
     },
     "execution_count": 7,
     "metadata": {},
     "output_type": "execute_result"
    }
   ],
   "source": [
    "tweets = data[\"tweet\"]\n",
    "# tweets = tweets.drop_duplicates()\n",
    "tweets"
   ]
  },
  {
   "cell_type": "code",
   "execution_count": 8,
   "metadata": {},
   "outputs": [],
   "source": [
    "# tweets[:100]"
   ]
  },
  {
   "cell_type": "code",
   "execution_count": 9,
   "metadata": {
    "colab": {
     "base_uri": "https://localhost:8080/"
    },
    "id": "cLzOsEtOkVOK",
    "outputId": "36123f17-73f6-42c8-b54a-7827fb0694ad",
    "scrolled": true
   },
   "outputs": [],
   "source": [
    "# python -m spacy download en_core_web_sm\n",
    "preprocessed_tweets,indices = preprocess_tweets(tweets)"
   ]
  },
  {
   "cell_type": "code",
   "execution_count": null,
   "metadata": {},
   "outputs": [],
   "source": [
    "# preprocessed_tweets"
   ]
  },
  {
   "cell_type": "code",
   "execution_count": 13,
   "metadata": {
    "colab": {
     "base_uri": "https://localhost:8080/",
     "height": 298
    },
    "id": "Ef8f2UGOEUkx",
    "outputId": "e36a6b5a-a4ac-4da7-d174-a402561aee08"
   },
   "outputs": [
    {
     "data": {
      "text/plain": [
       "<AxesSubplot:title={'center':'Tweet Word Count Distribution'}, ylabel='Frequency'>"
      ]
     },
     "execution_count": 13,
     "metadata": {},
     "output_type": "execute_result"
    },
    {
     "data": {
      "image/png": "[encoded data removed]",
      "text/plain": [
       "<Figure size 432x288 with 1 Axes>"
      ]
     },
     "metadata": {
      "needs_background": "light"
     },
     "output_type": "display_data"
    }
   ],
   "source": [
    "data['word_count'].plot(\n",
    "    kind='hist',\n",
    "    xlabel = \"Word Count\",\n",
    "    bins=50,\n",
    "    title='Tweet Word Count Distribution')"
   ]
  },
  {
   "cell_type": "code",
   "execution_count": 14,
   "metadata": {
    "colab": {
     "base_uri": "https://localhost:8080/",
     "height": 388
    },
    "id": "kafn1EYnEUiI",
    "outputId": "488f034f-3ad4-466e-d9af-4a4af66e2231"
   },
   "outputs": [
    {
     "name": "stdout",
     "output_type": "stream",
     "text": [
      "           existence.confidence  word_count\n",
      "existence                                  \n",
      "No                     840.8694       18845\n",
      "Yes                   2474.1951       47302\n"
     ]
    },
    {
     "data": {
      "text/plain": [
       "<AxesSubplot:title={'center':'Existence Distribution'}, xlabel='existence'>"
      ]
     },
     "execution_count": 14,
     "metadata": {},
     "output_type": "execute_result"
    },
    {
     "data": {
      "image/png": "[encoded data removed]",
      "text/plain": [
       "<Figure size 432x288 with 1 Axes>"
      ]
     },
     "metadata": {
      "needs_background": "light"
     },
     "output_type": "display_data"
    }
   ],
   "source": [
    "print(data.groupby(by=[\"existence\"]).sum())\n",
    "data.groupby(by=[\"existence\"]).sum().plot(kind = 'bar',title = \"Existence Distribution\")"
   ]
  },
  {
   "cell_type": "code",
   "execution_count": 15,
   "metadata": {
    "colab": {
     "base_uri": "https://localhost:8080/",
     "height": 883
    },
    "id": "PFd1sSnIEUfS",
    "outputId": "105ee4ba-27d8-49f8-a101-086fca011aed"
   },
   "outputs": [
    {
     "name": "stdout",
     "output_type": "stream",
     "text": [
      "global 2437\n",
      "warming 2360\n",
      "climate 2355\n",
      "change 2155\n",
      "link 489\n",
      "retwt 218\n",
      "snow 217\n",
      "tcot 187\n",
      "news 177\n",
      "science 162\n",
      "oohja 158\n",
      "green 150\n",
      "will 149\n",
      "earth 131\n",
      "world 130\n",
      "report 129\n",
      "gore 112\n",
      "time 103\n",
      "scientists 102\n",
      "energy 102\n"
     ]
    },
    {
     "data": {
      "text/html": [
       "<div>\n",
       "<style scoped>\n",
       "    .dataframe tbody tr th:only-of-type {\n",
       "        vertical-align: middle;\n",
       "    }\n",
       "\n",
       "    .dataframe tbody tr th {\n",
       "        vertical-align: top;\n",
       "    }\n",
       "\n",
       "    .dataframe thead th {\n",
       "        text-align: right;\n",
       "    }\n",
       "</style>\n",
       "<table border=\"1\" class=\"dataframe\">\n",
       "  <thead>\n",
       "    <tr style=\"text-align: right;\">\n",
       "      <th></th>\n",
       "      <th>tweet</th>\n",
       "      <th>word_count</th>\n",
       "    </tr>\n",
       "  </thead>\n",
       "  <tbody>\n",
       "    <tr>\n",
       "      <th>0</th>\n",
       "      <td>global</td>\n",
       "      <td>2437</td>\n",
       "    </tr>\n",
       "    <tr>\n",
       "      <th>1</th>\n",
       "      <td>warming</td>\n",
       "      <td>2360</td>\n",
       "    </tr>\n",
       "    <tr>\n",
       "      <th>2</th>\n",
       "      <td>climate</td>\n",
       "      <td>2355</td>\n",
       "    </tr>\n",
       "    <tr>\n",
       "      <th>3</th>\n",
       "      <td>change</td>\n",
       "      <td>2155</td>\n",
       "    </tr>\n",
       "    <tr>\n",
       "      <th>4</th>\n",
       "      <td>link</td>\n",
       "      <td>489</td>\n",
       "    </tr>\n",
       "  </tbody>\n",
       "</table>\n",
       "</div>"
      ],
      "text/plain": [
       "     tweet  word_count\n",
       "0   global        2437\n",
       "1  warming        2360\n",
       "2  climate        2355\n",
       "3   change        2155\n",
       "4     link         489"
      ]
     },
     "metadata": {},
     "output_type": "display_data"
    },
    {
     "data": {
      "text/plain": [
       "<AxesSubplot:title={'center':'Top 20 words in review before preprocessing'}, xlabel='tweet'>"
      ]
     },
     "execution_count": 15,
     "metadata": {},
     "output_type": "execute_result"
    },
    {
     "data": {
      "image/png": "[encoded data removed]",
      "text/plain": [
       "<Figure size 432x288 with 1 Axes>"
      ]
     },
     "metadata": {
      "needs_background": "light"
     },
     "output_type": "display_data"
    }
   ],
   "source": [
    "# The distribution of top unigrams before removing stop words\n",
    "from sklearn.feature_extraction.text import CountVectorizer\n",
    "\n",
    "common_words = get_top_n_words(data['tweet'], 20)\n",
    "for word, freq in common_words:\n",
    "    print(word, freq)\n",
    "df1 = pd.DataFrame(common_words, columns = ['tweet' , 'word_count'])\n",
    "display(df1.head())\n",
    "\n",
    "df1.groupby('tweet').sum()['word_count'].sort_values(ascending=False).plot(\n",
    "    kind='bar', title='Top 20 words in review before preprocessing')\n",
    "\n"
   ]
  },
  {
   "cell_type": "code",
   "execution_count": 16,
   "metadata": {
    "colab": {
     "base_uri": "https://localhost:8080/",
     "height": 355
    },
    "id": "0207TRHRK0TL",
    "outputId": "930bbb59-7aa1-4e13-d5a2-9550c33e9d81",
    "scrolled": false
   },
   "outputs": [
    {
     "data": {
      "text/plain": [
       "<AxesSubplot:title={'center':'Top 20 words in review after preprocessing'}, xlabel='top words'>"
      ]
     },
     "execution_count": 16,
     "metadata": {},
     "output_type": "execute_result"
    },
    {
     "data": {
      "image/png": "[encoded data removed]",
      "text/plain": [
       "<Figure size 432x288 with 1 Axes>"
      ]
     },
     "metadata": {
      "needs_background": "light"
     },
     "output_type": "display_data"
    }
   ],
   "source": [
    "allwords = list(chain.from_iterable(preprocessed_tweets))\n",
    "df2 = pd.DataFrame(allwords,columns = [\"words\"])\n",
    "df2['words'].value_counts()[:20].plot(kind='bar', title='Top 20 words in review after preprocessing',\n",
    "                                     xlabel = 'top words')\n",
    "# allwords\n",
    "# preprocessed_tweets"
   ]
  },
  {
   "cell_type": "markdown",
   "metadata": {},
   "source": [
    "## Modelling"
   ]
  },
  {
   "cell_type": "code",
   "execution_count": 10,
   "metadata": {},
   "outputs": [],
   "source": [
    "new_data = data.iloc[indices]"
   ]
  },
  {
   "cell_type": "code",
   "execution_count": 11,
   "metadata": {},
   "outputs": [
    {
     "data": {
      "text/html": [
       "<div>\n",
       "<style scoped>\n",
       "    .dataframe tbody tr th:only-of-type {\n",
       "        vertical-align: middle;\n",
       "    }\n",
       "\n",
       "    .dataframe tbody tr th {\n",
       "        vertical-align: top;\n",
       "    }\n",
       "\n",
       "    .dataframe thead th {\n",
       "        text-align: right;\n",
       "    }\n",
       "</style>\n",
       "<table border=\"1\" class=\"dataframe\">\n",
       "  <thead>\n",
       "    <tr style=\"text-align: right;\">\n",
       "      <th></th>\n",
       "      <th>tweet</th>\n",
       "      <th>existence</th>\n",
       "      <th>existence.confidence</th>\n",
       "      <th>word_count</th>\n",
       "      <th>cleaned_tweet</th>\n",
       "    </tr>\n",
       "  </thead>\n",
       "  <tbody>\n",
       "    <tr>\n",
       "      <th>0</th>\n",
       "      <td>Global warming report urges governments to act...</td>\n",
       "      <td>Yes</td>\n",
       "      <td>1.0000</td>\n",
       "      <td>18</td>\n",
       "      <td>increase urge world report government belgium ...</td>\n",
       "    </tr>\n",
       "    <tr>\n",
       "      <th>1</th>\n",
       "      <td>Fighting poverty and global warming in Africa ...</td>\n",
       "      <td>Yes</td>\n",
       "      <td>1.0000</td>\n",
       "      <td>8</td>\n",
       "      <td>fight africa poverty global warming</td>\n",
       "    </tr>\n",
       "    <tr>\n",
       "      <th>2</th>\n",
       "      <td>Carbon offsets: How a Vatican forest failed to...</td>\n",
       "      <td>Yes</td>\n",
       "      <td>0.8786</td>\n",
       "      <td>12</td>\n",
       "      <td>offset forest reduce fail global carbon warmin...</td>\n",
       "    </tr>\n",
       "    <tr>\n",
       "      <th>3</th>\n",
       "      <td>Carbon offsets: How a Vatican forest failed to...</td>\n",
       "      <td>Yes</td>\n",
       "      <td>1.0000</td>\n",
       "      <td>12</td>\n",
       "      <td>offset forest reduce fail global carbon warmin...</td>\n",
       "    </tr>\n",
       "    <tr>\n",
       "      <th>4</th>\n",
       "      <td>URUGUAY: Tools Needed for Those Most Vulnerabl...</td>\n",
       "      <td>Yes</td>\n",
       "      <td>0.8087</td>\n",
       "      <td>11</td>\n",
       "      <td>tool vulnerable change need uruguay climate</td>\n",
       "    </tr>\n",
       "  </tbody>\n",
       "</table>\n",
       "</div>"
      ],
      "text/plain": [
       "                                               tweet existence  \\\n",
       "0  Global warming report urges governments to act...       Yes   \n",
       "1  Fighting poverty and global warming in Africa ...       Yes   \n",
       "2  Carbon offsets: How a Vatican forest failed to...       Yes   \n",
       "3  Carbon offsets: How a Vatican forest failed to...       Yes   \n",
       "4  URUGUAY: Tools Needed for Those Most Vulnerabl...       Yes   \n",
       "\n",
       "   existence.confidence  word_count  \\\n",
       "0                1.0000          18   \n",
       "1                1.0000           8   \n",
       "2                0.8786          12   \n",
       "3                1.0000          12   \n",
       "4                0.8087          11   \n",
       "\n",
       "                                       cleaned_tweet  \n",
       "0  increase urge world report government belgium ...  \n",
       "1                fight africa poverty global warming  \n",
       "2  offset forest reduce fail global carbon warmin...  \n",
       "3  offset forest reduce fail global carbon warmin...  \n",
       "4        tool vulnerable change need uruguay climate  "
      ]
     },
     "execution_count": 11,
     "metadata": {},
     "output_type": "execute_result"
    }
   ],
   "source": [
    "prepr_tweets = [\" \".join(each) for each in preprocessed_tweets]\n",
    "new_data['cleaned_tweet'] = prepr_tweets\n",
    "new_data.head()"
   ]
  },
  {
   "cell_type": "code",
   "execution_count": 12,
   "metadata": {},
   "outputs": [
    {
     "data": {
      "text/plain": [
       "(5813, (5960, 4), (5813, 5))"
      ]
     },
     "execution_count": 12,
     "metadata": {},
     "output_type": "execute_result"
    }
   ],
   "source": [
    "len(prepr_tweets), data.shape, new_data.shape"
   ]
  },
  {
   "cell_type": "code",
   "execution_count": 13,
   "metadata": {},
   "outputs": [],
   "source": [
    "# TF IDF\n",
    "from sklearn.feature_extraction.text import CountVectorizer\n",
    "from sklearn.feature_extraction.text import TfidfVectorizer\n",
    "from sklearn.metrics.pairwise import cosine_similarity\n",
    "from sklearn.model_selection import train_test_split\n",
    "import collections, numpy\n",
    "\n",
    "vectorizer = CountVectorizer()\n",
    "X = vectorizer.fit_transform(new_data['cleaned_tweet'].astype('U'))\n",
    "\n",
    "tf = TfidfVectorizer()\n",
    "text_tf = tf.fit_transform(new_data['cleaned_tweet'].astype('U'))\n",
    "# print(text_tf)"
   ]
  },
  {
   "cell_type": "code",
   "execution_count": 14,
   "metadata": {},
   "outputs": [
    {
     "data": {
      "text/plain": [
       "tweet                   0\n",
       "existence               0\n",
       "existence.confidence    0\n",
       "word_count              0\n",
       "cleaned_tweet           0\n",
       "dtype: int64"
      ]
     },
     "execution_count": 14,
     "metadata": {},
     "output_type": "execute_result"
    }
   ],
   "source": [
    "new_data.isna().sum()"
   ]
  },
  {
   "cell_type": "code",
   "execution_count": 15,
   "metadata": {},
   "outputs": [
    {
     "name": "stdout",
     "output_type": "stream",
     "text": [
      "[[1.         0.03202563 0.02152163 ... 0.02098109 0.01983339 0.01605031]\n",
      " [0.03202563 1.         0.03771814 ... 0.0367708  0.03475939 0.02812928]\n",
      " [0.02152163 0.03771814 1.         ... 0.02471044 0.02335875 0.01890323]\n",
      " ...\n",
      " [0.02098109 0.0367708  0.02471044 ... 1.         0.02277207 0.01842845]\n",
      " [0.01983339 0.03475939 0.02335875 ... 0.02277207 1.         0.01742039]\n",
      " [0.01605031 0.02812928 0.01890323 ... 0.01842845 0.01742039 1.        ]]\n"
     ]
    }
   ],
   "source": [
    "# compute similarity using cosine similarity\n",
    "cos_sim=cosine_similarity(text_tf, text_tf)\n",
    "print(cos_sim)"
   ]
  },
  {
   "cell_type": "code",
   "execution_count": 16,
   "metadata": {},
   "outputs": [
    {
     "name": "stdout",
     "output_type": "stream",
     "text": [
      " Test Data Shape: (1163, 5813)\n",
      " Train Data Shape: (4650, 5813)\n"
     ]
    }
   ],
   "source": [
    "# splitting data \n",
    "\n",
    "X_train, X_test, y_train, y_test = train_test_split(cos_sim, new_data['existence'], test_size=0.2, random_state=33)\n",
    "print(\" Test Data Shape:\", X_test.shape)\n",
    "print(\" Train Data Shape:\",X_train.shape)"
   ]
  },
  {
   "cell_type": "code",
   "execution_count": 17,
   "metadata": {
    "scrolled": true
   },
   "outputs": [
    {
     "name": "stdout",
     "output_type": "stream",
     "text": [
      " Test Data Positive Sentiments : 591\n",
      " Test Data Negative Sentiments : 572\n",
      " Train Data Positive Sentiments : 2385\n",
      " Train Data Positive Sentiments : 2265\n"
     ]
    },
    {
     "data": {
      "text/plain": [
       "Yes    2976\n",
       "No     2837\n",
       "Name: existence, dtype: int64"
      ]
     },
     "execution_count": 17,
     "metadata": {},
     "output_type": "execute_result"
    }
   ],
   "source": [
    "pos = (y_test == 'Yes').sum()\n",
    "neg = (y_test == 'No').sum()\n",
    "postrain = (y_train == 'Yes').sum()\n",
    "negtrain = (y_train == 'No').sum()\n",
    "total = pos + neg\n",
    "print(\" Test Data Positive Sentiments :\", pos)\n",
    "print(\" Test Data Negative Sentiments :\",neg)\n",
    "print(\" Train Data Positive Sentiments :\", postrain)\n",
    "print(\" Train Data Positive Sentiments :\",negtrain)\n",
    "new_data['existence'].value_counts()"
   ]
  },
  {
   "cell_type": "code",
   "execution_count": 18,
   "metadata": {},
   "outputs": [],
   "source": [
    "# perform algoritma KNN\n",
    "from sklearn.metrics import accuracy_score, precision_score, auc,recall_score, f1_score,roc_curve,confusion_matrix, classification_report\n",
    "from sklearn.neighbors import KNeighborsClassifier\n",
    "from sklearn.tree import DecisionTreeClassifier\n",
    "from sklearn import svm\n",
    "from sklearn.model_selection import cross_val_score\n",
    "import seaborn as sns\n",
    "import matplotlib.pyplot as plt\n",
    "from sklearn.svm import LinearSVC\n"
   ]
  },
  {
   "cell_type": "code",
   "execution_count": 19,
   "metadata": {},
   "outputs": [],
   "source": [
    "clfs = [\n",
    "    svm.SVC(kernel='linear').fit(X_train, y_train),\n",
    "#     LinearSVC().fit(X_train, y_train),\n",
    "    DecisionTreeClassifier().fit(X_train, y_train),\n",
    "    KNeighborsClassifier(n_neighbors=7).fit(X_train, y_train)\n",
    "]"
   ]
  },
  {
   "cell_type": "code",
   "execution_count": 20,
   "metadata": {},
   "outputs": [],
   "source": [
    "MLA_columns = []\n",
    "MLA_compare = pd.DataFrame(columns = MLA_columns)"
   ]
  },
  {
   "cell_type": "code",
   "execution_count": 21,
   "metadata": {},
   "outputs": [
    {
     "name": "stdout",
     "output_type": "stream",
     "text": [
      "===============================================\n",
      "\n",
      "**********SVC***********\n",
      "===============================================\n",
      "\n",
      "**********DecisionTreeClassifier***********\n",
      "===============================================\n",
      "\n",
      "**********KNeighborsClassifier***********\n"
     ]
    }
   ],
   "source": [
    "row_index = 0\n",
    "for clf in clfs:\n",
    "    print('===============================================\\n')\n",
    "    print(\"**********{}***********\".format(clf.__class__.__name__))\n",
    "    predicted = clf.predict(X_test)\n",
    "    tn, fp, fn, tp = confusion_matrix(y_test, predicted).ravel()\n",
    "    MLA_name = clf.__class__.__name__\n",
    "    MLA_compare.loc[row_index,'MLA Name'] = MLA_name\n",
    "    MLA_compare.loc[row_index, 'MLA Train Accuracy'] = round(clf.score(X_train, y_train), 2)\n",
    "    MLA_compare.loc[row_index, 'MLA Test Accuracy'] = round( accuracy_score(y_test,predicted), 2)\n",
    "    MLA_compare.loc[row_index, 'MLA Precision'] = round( precision_score(y_test,predicted, average=\"binary\", pos_label=\"Yes\"), 2)\n",
    "    MLA_compare.loc[row_index, 'MLA Recall'] = round( recall_score(y_test,predicted, average=\"binary\", pos_label=\"Yes\"), 2)\n",
    "    MLA_compare.loc[row_index, 'MLA F1 Score'] = round( f1_score(y_test,predicted, average=\"binary\", pos_label=\"Yes\"), 2)\n",
    "    MLA_compare.loc[row_index, 'error_rate'] = round( 1-accuracy_score(y_test,predicted), 2)\n",
    "#     MLA_compare.loc[row_index, 'cross val score'] = cross_val_score(clf, cos_sim,data['existence'], cv=10).mean()\n",
    "    row_index+=1\n"
   ]
  },
  {
   "cell_type": "code",
   "execution_count": 22,
   "metadata": {},
   "outputs": [
    {
     "data": {
      "text/html": [
       "<div>\n",
       "<style scoped>\n",
       "    .dataframe tbody tr th:only-of-type {\n",
       "        vertical-align: middle;\n",
       "    }\n",
       "\n",
       "    .dataframe tbody tr th {\n",
       "        vertical-align: top;\n",
       "    }\n",
       "\n",
       "    .dataframe thead th {\n",
       "        text-align: right;\n",
       "    }\n",
       "</style>\n",
       "<table border=\"1\" class=\"dataframe\">\n",
       "  <thead>\n",
       "    <tr style=\"text-align: right;\">\n",
       "      <th></th>\n",
       "      <th>MLA Name</th>\n",
       "      <th>MLA Train Accuracy</th>\n",
       "      <th>MLA Test Accuracy</th>\n",
       "      <th>MLA Precision</th>\n",
       "      <th>MLA Recall</th>\n",
       "      <th>MLA F1 Score</th>\n",
       "      <th>error_rate</th>\n",
       "    </tr>\n",
       "  </thead>\n",
       "  <tbody>\n",
       "    <tr>\n",
       "      <th>0</th>\n",
       "      <td>SVC</td>\n",
       "      <td>0.87</td>\n",
       "      <td>0.73</td>\n",
       "      <td>0.72</td>\n",
       "      <td>0.74</td>\n",
       "      <td>0.73</td>\n",
       "      <td>0.27</td>\n",
       "    </tr>\n",
       "    <tr>\n",
       "      <th>2</th>\n",
       "      <td>KNeighborsClassifier</td>\n",
       "      <td>0.75</td>\n",
       "      <td>0.68</td>\n",
       "      <td>0.75</td>\n",
       "      <td>0.54</td>\n",
       "      <td>0.63</td>\n",
       "      <td>0.32</td>\n",
       "    </tr>\n",
       "    <tr>\n",
       "      <th>1</th>\n",
       "      <td>DecisionTreeClassifier</td>\n",
       "      <td>0.96</td>\n",
       "      <td>0.67</td>\n",
       "      <td>0.69</td>\n",
       "      <td>0.66</td>\n",
       "      <td>0.67</td>\n",
       "      <td>0.33</td>\n",
       "    </tr>\n",
       "  </tbody>\n",
       "</table>\n",
       "</div>"
      ],
      "text/plain": [
       "                 MLA Name  MLA Train Accuracy  MLA Test Accuracy  \\\n",
       "0                     SVC                0.87               0.73   \n",
       "2    KNeighborsClassifier                0.75               0.68   \n",
       "1  DecisionTreeClassifier                0.96               0.67   \n",
       "\n",
       "   MLA Precision  MLA Recall  MLA F1 Score  error_rate  \n",
       "0           0.72        0.74          0.73        0.27  \n",
       "2           0.75        0.54          0.63        0.32  \n",
       "1           0.69        0.66          0.67        0.33  "
      ]
     },
     "execution_count": 22,
     "metadata": {},
     "output_type": "execute_result"
    }
   ],
   "source": [
    "MLA_compare.sort_values(by = ['MLA Test Accuracy'], ascending = False, inplace = True)\n",
    "MLA_compare"
   ]
  },
  {
   "cell_type": "markdown",
   "metadata": {},
   "source": [
    "<!-- ## SVM\n",
    "* Train Accuracy:-  0.92\n",
    "* Test Accuracy:-  0.82\n",
    "* Precision Score:-  0.85\n",
    "* Recall:-  0.91\n",
    "* F1 score:-  0.88\n",
    "* Error Report:-  0.18\n",
    "\n",
    "## DecisionTreeClassifier\n",
    "* Train Accuracy:-  0.98\n",
    "* Test Accuracy:-  0.79\n",
    "* Precision Score:-  0.85\n",
    "* Recall:-  0.86\n",
    "* F1 score:-  0.85\n",
    "* Error Report:-  0.21\n",
    "\n",
    "## KNeighborsClassifier\n",
    "* Train Accuracy:-  0.85\n",
    "* Test Accuracy:-  0.77\n",
    "* Precision Score:-  0.83\n",
    "* Recall:-  0.86\n",
    "* F1 score:-  0.85\n",
    "* Error Report:-  0.23\n",
    " -->"
   ]
  }
 ],
 "metadata": {
  "colab": {
   "collapsed_sections": [],
   "provenance": []
  },
  "kernelspec": {
   "display_name": "ml",
   "language": "python",
   "name": "ml"
  },
  "language_info": {
   "codemirror_mode": {
    "name": "ipython",
    "version": 3
   },
   "file_extension": ".py",
   "mimetype": "text/x-python",
   "name": "python",
   "nbconvert_exporter": "python",
   "pygments_lexer": "ipython3",
   "version": "3.6.13"
  }
 },
 "nbformat": 4,
 "nbformat_minor": 1
}
